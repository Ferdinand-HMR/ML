{
 "cells": [
  {
   "cell_type": "markdown",
   "metadata": {},
   "source": [
    "# Lab:  Nonlinear Least Squares for Modeling Materials\n",
    "\n",
    "Nonlinear least squares (NLLS) is a widely-used method for modeling data.  In NLLS, we wish to fit a model of the form,\n",
    "\n",
    "$$\\hat{y} = g(x,w)$$\n",
    "     \n",
    "where $w$ is a vector of paramters and $x$ is the vector of predictors.  We find $w$ by minimizing a least-squares function \n",
    "\n",
    "$$f(w) = \\sum_i (y_i - g(x_i,w))^2$$\n",
    "     \n",
    "where the summation is over training samples $(x_i,y_i)$.  This is similar to linear least-squares, but the function $g(x,w)$ may not be linear in $w$.  In general, this optimization has no closed-form expression.  So numerical optimization must be used.  \n",
    "\n",
    "In this lab, we will implement gradient descent on NLLS in a problem of physical modeling of materials.  Specifically, we will estimate parameters for expansion of copper as a function of temperature using a real dataset.  In doing this lab, you will learn to:\n",
    "* Set up a nonlinear least squares as an unconstrained optimization function\n",
    "* Compute initial parameter estimates for a simple rational model\n",
    "* Compute the gradients of the least squares objective\n",
    "* Implement gradient descent for minimizing the objective\n",
    "* Implement momentum gradient descent\n",
    "* Visualize the convergence of the algorithm\n",
    "\n",
    "We first import some key packages."
   ]
  },
  {
   "cell_type": "code",
   "execution_count": 317,
   "metadata": {},
   "outputs": [],
   "source": [
    "import pandas as pd\n",
    "import numpy as np\n",
    "import matplotlib.pyplot as plt\n",
    "from sklearn.linear_model import Ridge, LinearRegression"
   ]
  },
  {
   "cell_type": "markdown",
   "metadata": {},
   "source": [
    "## Load the Data\n",
    "\n",
    "The NIST agency has an excellent [nonlinear regression website](https://www.itl.nist.gov/div898/strd/nls/nls_main.shtml) that has several datasets for nonlinear regression problems.  In this lab, we will use the data from a NIST study involving the thermal expansion of copper. The response variable is the coefficient of thermal expansion, and the predictor variable is temperature in degrees kelvin.  \n",
    "\n",
    "> Hahn, T., NIST (1979), Copper Thermal Expansion Study.  (unpublished}\n",
    "\n",
    "You can download the data as follows."
   ]
  },
  {
   "cell_type": "code",
   "execution_count": 318,
   "metadata": {},
   "outputs": [
    {
     "data": {
      "text/html": [
       "<div>\n",
       "<style scoped>\n",
       "    .dataframe tbody tr th:only-of-type {\n",
       "        vertical-align: middle;\n",
       "    }\n",
       "\n",
       "    .dataframe tbody tr th {\n",
       "        vertical-align: top;\n",
       "    }\n",
       "\n",
       "    .dataframe thead th {\n",
       "        text-align: right;\n",
       "    }\n",
       "</style>\n",
       "<table border=\"1\" class=\"dataframe\">\n",
       "  <thead>\n",
       "    <tr style=\"text-align: right;\">\n",
       "      <th></th>\n",
       "      <th>x0</th>\n",
       "      <th>y0</th>\n",
       "      <th>dummy</th>\n",
       "    </tr>\n",
       "  </thead>\n",
       "  <tbody>\n",
       "    <tr>\n",
       "      <th>0</th>\n",
       "      <td>0.591</td>\n",
       "      <td>24.41</td>\n",
       "      <td>NaN</td>\n",
       "    </tr>\n",
       "    <tr>\n",
       "      <th>1</th>\n",
       "      <td>1.547</td>\n",
       "      <td>34.82</td>\n",
       "      <td>NaN</td>\n",
       "    </tr>\n",
       "    <tr>\n",
       "      <th>2</th>\n",
       "      <td>2.902</td>\n",
       "      <td>44.09</td>\n",
       "      <td>NaN</td>\n",
       "    </tr>\n",
       "    <tr>\n",
       "      <th>3</th>\n",
       "      <td>2.894</td>\n",
       "      <td>45.07</td>\n",
       "      <td>NaN</td>\n",
       "    </tr>\n",
       "    <tr>\n",
       "      <th>4</th>\n",
       "      <td>4.703</td>\n",
       "      <td>54.98</td>\n",
       "      <td>NaN</td>\n",
       "    </tr>\n",
       "  </tbody>\n",
       "</table>\n",
       "</div>"
      ],
      "text/plain": [
       "      x0     y0  dummy\n",
       "0  0.591  24.41    NaN\n",
       "1  1.547  34.82    NaN\n",
       "2  2.902  44.09    NaN\n",
       "3  2.894  45.07    NaN\n",
       "4  4.703  54.98    NaN"
      ]
     },
     "execution_count": 318,
     "metadata": {},
     "output_type": "execute_result"
    }
   ],
   "source": [
    "url = 'https://itl.nist.gov/div898/strd/nls/data/LINKS/DATA/Hahn1.dat'\n",
    "df = pd.read_csv(url, skiprows=60, sep=' ',skipinitialspace=True, names=['x0','y0','dummy'])\n",
    "df.head()"
   ]
  },
  {
   "cell_type": "markdown",
   "metadata": {},
   "source": [
    "Extract the `x0` and `y0` into arrays.  Rescale, `x0` and `y0` to values between `0` and `1` by dividing `x0` and `y0` by the maximum value.  Store the scaled values in vectors `x` and `y`.  The rescaling will help with the conditioning of the fitting.  Plot, `y` vs. `x`. "
   ]
  },
  {
   "cell_type": "code",
   "execution_count": 319,
   "metadata": {},
   "outputs": [
    {
     "data": {
      "image/png": "[encoded data removed]",
      "text/plain": [
       "<Figure size 432x288 with 1 Axes>"
      ]
     },
     "metadata": {
      "needs_background": "light"
     },
     "output_type": "display_data"
    }
   ],
   "source": [
    "# TODO\n",
    "# x0 = ...\n",
    "x0 = np.array(df.iloc[:,0])\n",
    "# y0 = ...\n",
    "y0 = np.array(df.iloc[:,1])\n",
    "# x = x0/np.max(x0)\n",
    "x = x0/np.max(x0)\n",
    "# y = y0/np.max(y0)\n",
    "y = y0/np.max(y0)\n",
    "# plt.plot(...)\n",
    "plt.scatter(x,y)\n",
    "plt.xlabel('x')\n",
    "plt.ylabel('y')\n",
    "plt.grid()\n",
    "plt.show()"
   ]
  },
  {
   "cell_type": "markdown",
   "metadata": {},
   "source": [
    "To make the problem a little more challenging, we will add some noise.  Add random Gaussian noise with mean 0 and std. dev = 0.05 to `y`.  Store the noisy results in `yn`. You can use the `np.random.normal()` function to add Gaussian noise. Plot `yn` vs. `x`."
   ]
  },
  {
   "cell_type": "code",
   "execution_count": 320,
   "metadata": {},
   "outputs": [],
   "source": [
    "# TODO\n",
    "sigma = 0.05\n",
    "sigma = 0.0\n",
    "noise = sigma * np.random.randn(y.shape[0])\n",
    "# yn = y + ...\n",
    "yn = y + noise"
   ]
  },
  {
   "cell_type": "markdown",
   "metadata": {},
   "source": [
    "Split the data `(x,yn)` into training and test.  Let `xtr,ytr` be training data and `xts,yts` be the test data.  You can use the `train_test_split` function.  Set `test_size=0.33` so that 1/3 of the samples are held out for test."
   ]
  },
  {
   "cell_type": "code",
   "execution_count": 321,
   "metadata": {},
   "outputs": [],
   "source": [
    "from sklearn.model_selection import train_test_split\n",
    "\n",
    "# TODO\n",
    "# xtr, xts, ytr, yts = ...\n",
    "xtr, xts, ytr, yts = train_test_split(x,yn,test_size=0.33)"
   ]
  },
  {
   "cell_type": "markdown",
   "metadata": {},
   "source": [
    "## Initial Fit for a Rational Model\n",
    "\n",
    "The [NIST website](https://www.itl.nist.gov/div898/strd/nls/data/hahn1.shtml) suggests using a *rational* model of the form,\n",
    "\n",
    "$$\\hat{y} = \\frac{a[0] + a[1]x + ... + a[d]x^d}{1 + b[0]x + ... + b[d-1]x^d}$$\n",
    "      \n",
    "with $d=3$.  The model parameters are $w = [a[0],...,a[d],b[0],...,b[d-1]]$ so there are $2d+1$ parameters total.    Complete the function below that takes vectors $w$ and $x$ and predicts a set of values $\\hat{y}$ using the above model.\n",
    "   "
   ]
  },
  {
   "cell_type": "code",
   "execution_count": 322,
   "metadata": {},
   "outputs": [],
   "source": [
    "def predict(w,x):\n",
    "    \n",
    "    # Get the length\n",
    "    d = (len(w)-1)//2\n",
    "    \n",
    "    # TODO.  Extract a and b from w\n",
    "    # a = ...\n",
    "    a = w[:d+1]\n",
    "    # b = ...\n",
    "    b = np.concatenate(([1],w[d+1:2*d+1]))\n",
    "    # TODO.  Compute yhat.  You may use the np.polyval function\n",
    "    # But, remember you must flip the order the a and b\n",
    "    # yhat = ...\n",
    "    numerator = np.polyval(np.flip(a),x)\n",
    "    denominator = np.polyval(np.flip(b),x)\n",
    "    yhat = numerator / denominator\n",
    "    return yhat"
   ]
  },
  {
   "cell_type": "markdown",
   "metadata": {},
   "source": [
    "When we fit with a nonlinear model, most methods only get convergence to a local minima.  So, you need a good initial condition.  For a rational model, one way to get is to realize that if:\n",
    "\n",
    "\n",
    "$$y \\sim= \\frac{a[0] + a[1]*x + ... + a[d]*x^d}{1 + b[0]*x + ... + b[d-1]*x^d}$$\n",
    "    \n",
    "Then:\n",
    "\n",
    "$$y \\sim= a[0] + a[1]*x + ... + a[d]*x^d - b[0]*x*y - ... - b[d-1]*x^d*y$$\n",
    "    \n",
    "So, we can solve for the the parameters $w = [a,b]$ from linear regression of the predictors,\n",
    "\n",
    "$$Z[i,:] =\n",
    "\\begin{bmatrix} \n",
    "1 & x[i] & ... & x^d[i] & -y[i]x[i] & ... & -y[i]x^d[i]\n",
    "\\end{bmatrix}$$"
   ]
  },
  {
   "cell_type": "code",
   "execution_count": 323,
   "metadata": {},
   "outputs": [],
   "source": [
    "d = 3\n",
    "# Column vector\n",
    "X = np.reshape(xtr,(xtr.shape[0],1))\n",
    "# Copy column vector d times\n",
    "X = np.tile(X,d+1)\n",
    "# Power exponent\n",
    "p = np.array(range(d+1))\n",
    "# Power\n",
    "Xp = np.power(X,p)\n",
    "# Multiply by y\n",
    "Yp = -np.multiply(np.reshape(ytr,(ytr.shape[0],1)),Xp[:,1:])\n",
    "# TODO.  Create the transformed feature matrix\n",
    "# Z = ...\n",
    "Z = np.concatenate((Xp,Yp),axis=1)\n",
    "# TODO.  Fit with parameters with linear regression\n",
    "regr = LinearRegression(fit_intercept=True)\n",
    "regr.fit(Z,ytr)\n",
    "# TODO\n",
    "# Extract the parameters from regr.coef_ and regr.intercept_ and store the parameter vector in winit\n",
    "# winit = ...\n",
    "winit = [None]*2\n",
    "winit[0] = regr.coef_\n",
    "winit[1] = regr.intercept_"
   ]
  },
  {
   "cell_type": "markdown",
   "metadata": {},
   "source": [
    "Now plot the predicted values of the `yhat` vs. `x` using your estimated parameter `winit` for 1000 values `x` in `[0,1]`.  On the same plot, plot `yts` vs. `xts`.  You will see that you get a horrible fit."
   ]
  },
  {
   "cell_type": "code",
   "execution_count": 324,
   "metadata": {},
   "outputs": [
    {
     "data": {
      "image/png": "[encoded data removed]",
      "text/plain": [
       "<Figure size 432x288 with 1 Axes>"
      ]
     },
     "metadata": {
      "needs_background": "light"
     },
     "output_type": "display_data"
    }
   ],
   "source": [
    "# TODO\n",
    "# xp = ...\n",
    "xp = np.linspace(0,1,1000)\n",
    "# yhat = ...\n",
    "yhat = predict(winit[0],xp)\n",
    "# plot(...)\n",
    "plt.plot(xp,yhat,'b',label='Predicted')\n",
    "plt.scatter(xts,yts,label='Noisy data')\n",
    "plt.ylim([-1,2])\n",
    "plt.grid()\n",
    "plt.legend(loc='upper left')\n",
    "plt.show()"
   ]
  },
  {
   "cell_type": "markdown",
   "metadata": {},
   "source": [
    "The reason the previous fit is poor is that the denominator in `yhat` goes close to zero.   To avoid this problem, we can use Ridge regression, to try to keep the parameters close to zero.  Re-run the fit above with `Ridge` with `alpha = 1e-3`. You should see you get a reasonable, but not perfect fit."
   ]
  },
  {
   "cell_type": "code",
   "execution_count": 325,
   "metadata": {},
   "outputs": [
    {
     "data": {
      "image/png": "[encoded data removed]",
      "text/plain": [
       "<Figure size 432x288 with 1 Axes>"
      ]
     },
     "metadata": {
      "needs_background": "light"
     },
     "output_type": "display_data"
    }
   ],
   "source": [
    "# TODO.  Fit with parameters with linear regression\n",
    "# regr = Ridge(alpha=1e-3)\n",
    "# regr.fit(...)\n",
    "regr = Ridge(alpha=1e-3)\n",
    "regr.fit(Z,ytr)\n",
    "# TODO\n",
    "# Extract the parameters from regr.coef_ and regr.intercept_\n",
    "# winit = ...\n",
    "winit[0] = regr.coef_\n",
    "winit[1] = regr.intercept_\n",
    "\n",
    "# TODO\n",
    "# Plot the results as above.\n",
    "# xp = ...\n",
    "xp = np.linspace(0,1,1000)\n",
    "# yhat = ...\n",
    "yhat = predict(winit[0],xp)\n",
    "# plot(...)\n",
    "plt.plot(xp,yhat,'b',label='Predicted')\n",
    "plt.scatter(xts,yts,label='Noisy data')\n",
    "plt.ylim([-1,2])\n",
    "plt.grid()\n",
    "plt.legend(loc='upper left')\n",
    "plt.show()"
   ]
  },
  {
   "cell_type": "markdown",
   "metadata": {},
   "source": [
    "## Creating a Loss Function\n",
    "\n",
    "We can now use gradient descent to improve our initial estimate.  Complete the following function to compute\n",
    "\n",
    "$$f(w) = 0.5*\\sum_i (y[i] - yhat[i])^2$$\n",
    "    \n",
    "and `fgrad`, the gradient of $f(w)$."
   ]
  },
  {
   "cell_type": "code",
   "execution_count": 326,
   "metadata": {},
   "outputs": [],
   "source": [
    "def feval(w,x,y):\n",
    "    # TODO.  Parse w\n",
    "    # a = ...\n",
    "    # b = ...\n",
    "    # Get the length\n",
    "    d = (len(w)-1)//2\n",
    "    \n",
    "    # TODO.  Extract a and b from w\n",
    "    # a = ...\n",
    "    a = w[:d+1]\n",
    "    # b = ...\n",
    "    b = np.concatenate(([1],w[d+1:2*d+1]))\n",
    "    \n",
    "    # TODO.  Znum[i,j] = x[i]**j\n",
    "    numerator = np.polyval(np.flip(a),x)\n",
    "    \n",
    "    # TODO.  Zden[i,j] = x[i]**(j+1)\n",
    "    denominator = np.polyval(np.flip(b),x)\n",
    "    \n",
    "    # TODO.  Compute yhat \n",
    "    # Compute the numerator and denominator\n",
    "    yhat = numerator / denominator\n",
    "    \n",
    "    # TODO.  Compute loss\n",
    "    # f = ...\n",
    "    error = (y-yhat)\n",
    "    f = 0.5*np.sum(error**2)\n",
    "    # TODO.  Compute gradients\n",
    "    # Column vector\n",
    "    X = np.reshape(x,(x.shape[0],1))\n",
    "    # Copy column vector d times\n",
    "    X = np.tile(X,d+1)\n",
    "    # Power exponent\n",
    "    p = np.array(range(d+1))\n",
    "    # Power\n",
    "    Xp = np.power(X,p)\n",
    "    # Multiply by y\n",
    "    Yp = -np.multiply(np.reshape(y,(y.shape[0],1)),Xp[:,1:])\n",
    "    # TODO.  Create the transformed feature matrix\n",
    "    # Z = ...\n",
    "    Z = np.concatenate((Xp,Yp),axis=1)\n",
    "    # fgrad = ...\n",
    "    error = error/denominator\n",
    "    fgrad = -(error.T.dot(Z))\n",
    "    return f, fgrad\n"
   ]
  },
  {
   "cell_type": "markdown",
   "metadata": {},
   "source": [
    "Test the gradient function:\n",
    "* Take `w0=winit` and compute `f0,fgrad0 = feval(w0,xtr,ytr)`\n",
    "* Take `w1` very close to `w0` and compute `f1,fgrad1 = feval(w1,xtr,ytr)`\n",
    "* Verify that `f1-f0` is close to the predicted value based on the gradient."
   ]
  },
  {
   "cell_type": "code",
   "execution_count": 327,
   "metadata": {},
   "outputs": [
    {
     "name": "stdout",
     "output_type": "stream",
     "text": [
      "Actual f1-f0    =   1.2843e-03\n",
      "Predicted f1-f0 =   2.0367e-03\n"
     ]
    }
   ],
   "source": [
    "# TODO\n",
    "w0 = winit[0]\n",
    "# Perturb the point\n",
    "step = 1e-6\n",
    "w1 = w0 + step*np.random.randn(2*d+1)\n",
    "\n",
    "# Measure the function and gradient at w0 and w1\n",
    "f0, fgrad0 = feval(w0,xtr,ytr)\n",
    "f1, fgrad1 = feval(w1,xtr,ytr)\n",
    "\n",
    "# Predict the amount the function should have changed based on the gradient\n",
    "df_est = fgrad0.dot(w1-w0)\n",
    "# Print the two values to see if they are close\n",
    "print(\"Actual f1-f0    = %12.4e\" % (f1-f0))\n",
    "print(\"Predicted f1-f0 = %12.4e\" % df_est)"
   ]
  },
  {
   "cell_type": "markdown",
   "metadata": {},
   "source": [
    "## Implement gradient descent\n",
    "\n",
    "We will now try to minimize the loss function with gradient descent.  Using the function `feval` defined above, implement gradient descent.  Run gradient descent with a step size of `alpha=1e-6` starting at `w=winit`.  Run it for `nit=10000` iterations.  Compute `fgd[it]`= the objective function on iteration `it`.  Plot `fgd[it]` vs. `it`.  \n",
    "\n",
    "You should see that the training loss decreases, but it still hasn't converged after 10000 iterations."
   ]
  },
  {
   "cell_type": "code",
   "execution_count": 331,
   "metadata": {},
   "outputs": [
    {
     "data": {
      "image/png": "[encoded data removed]",
      "text/plain": [
       "<Figure size 432x288 with 1 Axes>"
      ]
     },
     "metadata": {
      "needs_background": "light"
     },
     "output_type": "display_data"
    },
    {
     "name": "stdout",
     "output_type": "stream",
     "text": [
      "f0 =  0.009365458941289411\n",
      "w =  [ 0.01733326  0.1543741  -0.32712905  0.20850109 -1.31240936 -0.28924229\n",
      "  0.65449402]\n"
     ]
    },
    {
     "data": {
      "image/png": "[encoded data removed]",
      "text/plain": [
       "<Figure size 432x288 with 1 Axes>"
      ]
     },
     "metadata": {
      "needs_background": "light"
     },
     "output_type": "display_data"
    }
   ],
   "source": [
    "# TODO\n",
    "class MyFun(object):\n",
    "    def __init__(self,x,y):\n",
    "        \"\"\"\n",
    "        Class for computes the loss and gradient for a logistic regression problem.\n",
    "        \n",
    "        The constructor takes the data matrix `X` and response vector y for training.\n",
    "        \"\"\"\n",
    "        self.x = x\n",
    "        self.y = y\n",
    "\n",
    "    def feval(self,w):\n",
    "        \"\"\"\n",
    "        Compute the loss and gradient for a given weight vector\n",
    "        \"\"\"\n",
    "            # TODO.  Parse w\n",
    "        # a = ...\n",
    "        # b = ...\n",
    "        # Get the length\n",
    "        d = (len(w)-1)//2\n",
    "    \n",
    "        # TODO.  Extract a and b from w\n",
    "        # a = ...\n",
    "        a = w[:d+1]\n",
    "        # b = ...\n",
    "        b = np.concatenate(([1],w[d+1:2*d+1]))\n",
    "    \n",
    "        # TODO.  Znum[i,j] = x[i]**j\n",
    "        numerator = np.polyval(np.flip(a),self.x)\n",
    "    \n",
    "        # TODO.  Zden[i,j] = x[i]**(j+1)\n",
    "        denominator = np.polyval(np.flip(b),self.x)\n",
    "    \n",
    "        # TODO.  Compute yhat \n",
    "        # Compute the numerator and denominator\n",
    "        yhat = numerator / denominator\n",
    "    \n",
    "        # TODO.  Compute loss\n",
    "        # f = ...\n",
    "        error = (self.y-yhat)\n",
    "        f = 0.5*np.sum(error**2)\n",
    "        # TODO.  Compute gradients\n",
    "        # Column vector\n",
    "        X = np.reshape(self.x,(self.x.shape[0],1))\n",
    "        # Copy column vector d times\n",
    "        X = np.tile(X,d+1)\n",
    "        # Power exponent\n",
    "        p = np.array(range(d+1))\n",
    "        # Power\n",
    "        Xp = np.power(X,p)\n",
    "        # Multiply by y\n",
    "        Yp = -np.multiply(np.reshape(self.y,(self.y.shape[0],1)),Xp[:,1:])\n",
    "        # TODO.  Create the transformed feature matrix\n",
    "        # Z = ...\n",
    "        Z = np.concatenate((Xp,Yp),axis=1)\n",
    "        # fgrad = ...\n",
    "        error = error/denominator\n",
    "        fgrad = -(error.T.dot(Z))\n",
    "        return f, fgrad\n",
    "\n",
    "def grad_opt_simp(feval, winit, lr=1e-3,nit=1000):\n",
    "    \"\"\"\n",
    "    Simple gradient descent optimization\n",
    "    \n",
    "    feval:  A function that returns f, fgrad, the objective\n",
    "            function and its gradient\n",
    "    winit:  Initial estimate\n",
    "    lr:     learning rate\n",
    "    nit:    Number of iterations\n",
    "    \"\"\"\n",
    "    # Initialize\n",
    "    w0 = winit\n",
    "    \n",
    "    # Create history dictionary for tracking progress per iteration.\n",
    "    # This isn't necessary if you just want the final answer, but it \n",
    "    # is useful for debugging\n",
    "    hist = {'w': [], 'f': []}\n",
    "    \n",
    "    # Loop over iterations\n",
    "    for it in range(nit):\n",
    "\n",
    "        # Evaluate the function and gradient\n",
    "        f0, fgrad0 = feval(w0)\n",
    "\n",
    "        # Take a gradient step\n",
    "        w0 = w0 - lr*fgrad0\n",
    "        \n",
    "         # Save history\n",
    "        hist['f'].append(f0)\n",
    "        hist['w'].append(w0)\n",
    "\n",
    "    # Convert to numpy arrays\n",
    "    for elem in ('f', 'w'):\n",
    "        hist[elem] = np.array(hist[elem])\n",
    "    return w0, f0, hist\n",
    "\n",
    "myfun = MyFun(xtr,ytr)\n",
    "\n",
    "# fgd = ...\n",
    "nit = 10000\n",
    "step = 1e-6\n",
    "w0,f0,hist = grad_opt_simp(myfun.feval,winit[0],step,nit)\n",
    "plt.figure()\n",
    "plt.plot(hist.get('f'))\n",
    "plt.xlabel('Iteration')\n",
    "plt.ylabel('fgd')\n",
    "plt.grid()\n",
    "plt.show()\n",
    "print('f0 = ', f0)\n",
    "print('w = ', w0)\n",
    "# xp = ...\n",
    "xp = np.linspace(0,1,1000)\n",
    "# yhat = ...\n",
    "yhat = predict(w0,xp)\n",
    "# plot(...)\n",
    "plt.plot(xp,yhat,'b',label='Predicted')\n",
    "plt.scatter(xts,yts,label='Noisy data')\n",
    "plt.ylim([-1,2])\n",
    "plt.grid()\n",
    "plt.legend(loc='upper left')\n",
    "plt.show()"
   ]
  },
  {
   "cell_type": "markdown",
   "metadata": {},
   "source": [
    "Now, try to get a faster convergence with adaptive step-size using the Armijo rule. Implement the gradient descent with adaptive step size.  Let `fadapt[it]` be the loss function on iteration `it`.  Plot `fadapt[it]` and `fgd[it]` vs. `it` on the same graph.  You should see a slight improvement, but not much."
   ]
  },
  {
   "cell_type": "code",
   "execution_count": 335,
   "metadata": {
    "scrolled": true
   },
   "outputs": [
    {
     "data": {
      "image/png": "[encoded data removed]",
      "text/plain": [
       "<Figure size 432x288 with 1 Axes>"
      ]
     },
     "metadata": {
      "needs_background": "light"
     },
     "output_type": "display_data"
    },
    {
     "name": "stdout",
     "output_type": "stream",
     "text": [
      "f0 =  0.009396535927584954\n",
      "w =  [ 0.01720813  0.15446059 -0.32704021  0.20857104 -1.31232509 -0.28920158\n",
      "  0.6544951 ]\n"
     ]
    }
   ],
   "source": [
    "# TODO\n",
    "def grad_opt_adapt(feval, winit, lr_init=1e-3, nit=1000):\n",
    "    \"\"\"\n",
    "    Gradient descent optimization with adaptive step size\n",
    "    \n",
    "    feval:  A function that returns f, fgrad, the objective\n",
    "            function and its gradient\n",
    "    winit:  Initial estimate\n",
    "    nit:    Number of iterations\n",
    "    lr:     Initial learning rate\n",
    "    \"\"\"\n",
    "    \n",
    "    # Set initial point\n",
    "    w0 = winit\n",
    "    f0, fgrad0 = feval(w0)\n",
    "    lr = lr_init\n",
    "    \n",
    "    # Create history dictionary for tracking progress per iteration.\n",
    "    # This isn't necessary if you just want the final answer, but it \n",
    "    # is useful for debugging\n",
    "    hist = {'lr': [], 'w': [], 'f': []}\n",
    "\n",
    "    for it in range(nit):\n",
    "\n",
    "        # Take a gradient step\n",
    "        w1 = w0 - lr*fgrad0\n",
    "\n",
    "        # Evaluate the test point by computing the objective function, f1,\n",
    "        # at the test point and the predicted decrease, df_est\n",
    "        f1, fgrad1 = feval(w1)\n",
    "        df_est = fgrad0.dot(w1-w0)\n",
    "        \n",
    "        # Check if test point passes the Armijo condition\n",
    "        alpha = 0.5\n",
    "        if (f1-f0 < alpha*df_est) and (f1 < f0):\n",
    "            # If descent is sufficient, accept the point and increase the\n",
    "            # learning rate\n",
    "            lr = lr*2\n",
    "            f0 = f1\n",
    "            fgrad0 = fgrad1\n",
    "            w0 = w1\n",
    "        else:\n",
    "            # Otherwise, decrease the learning rate\n",
    "            lr = lr/2            \n",
    "            \n",
    "        # Save history\n",
    "        hist['f'].append(f0)\n",
    "        hist['lr'].append(lr)\n",
    "        hist['w'].append(w0)\n",
    "\n",
    "    # Convert to numpy arrays\n",
    "    for elem in ('f', 'lr', 'w'):\n",
    "        hist[elem] = np.array(hist[elem])\n",
    "    return w0, f0, hist\n",
    "# fadapt = ...\n",
    "nit = 10000\n",
    "step = 1e-6  # Initial step\n",
    "w0,f0,hist = grad_opt_adapt(myfun.feval,winit[0],step,nit)\n",
    "plt.figure()\n",
    "plt.plot(hist.get('f'))\n",
    "plt.xlabel('Iteration')\n",
    "plt.ylabel('fgd')\n",
    "plt.grid()\n",
    "plt.show()\n",
    "print('f0 = ', f0)\n",
    "print('w = ', w0)"
   ]
  },
  {
   "cell_type": "markdown",
   "metadata": {},
   "source": [
    "Using he final estimate for `w` from the adaptive step-size plot the predicted values of the `yhat` vs. `x` usfor 1000 values `x` in `[0,1]`.  On the same plot, plot `yhat` vs. `x` for the initial parameter `w=winit`.  Also, plot `yts` vs. `xts`.  You should see that gradient descent was able to improve the estimat slightly, although the initial estimate was not too bad."
   ]
  },
  {
   "cell_type": "code",
   "execution_count": 336,
   "metadata": {},
   "outputs": [
    {
     "data": {
      "image/png": "[encoded data removed]",
      "text/plain": [
       "<Figure size 432x288 with 1 Axes>"
      ]
     },
     "metadata": {
      "needs_background": "light"
     },
     "output_type": "display_data"
    }
   ],
   "source": [
    "# TODO\n",
    "# xp = np.linspace(...)\n",
    "# yhat = ...\n",
    "# plot(...)\n",
    "\n",
    "# xp = ...\n",
    "xp = np.linspace(0,1,1000)\n",
    "# yhat = ...\n",
    "yhat = predict(w0,xp)\n",
    "# plot(...)\n",
    "plt.plot(xp,yhat,'b',label='Predicted')\n",
    "plt.scatter(xts,yts,label='Noisy data')\n",
    "plt.ylim([-1,2])\n",
    "plt.grid()\n",
    "plt.legend(loc='upper left')\n",
    "plt.show()"
   ]
  },
  {
   "cell_type": "markdown",
   "metadata": {},
   "source": [
    "## Momentum Gradient Descent\n",
    "\n",
    "This section is bonus.\n",
    "\n",
    "One way to improve gradient descent is to use *momentum*.  In momentum gradient descent, the update rule is:\n",
    "\n",
    "    f, fgrad = feval(w,...)\n",
    "    z = beta*z + fgrad\n",
    "    w = w - step*z\n",
    "    \n",
    "This is similar to gradient descent, except that there is a second order term on the gradient.  Implement this algorithm with `beta = 0.99` and `step=1e-5`.   Compare the convergence of the loss function with gradient descent.  "
   ]
  },
  {
   "cell_type": "code",
   "execution_count": 337,
   "metadata": {},
   "outputs": [],
   "source": [
    "# TODO\n",
    "nit = 1000\n",
    "step = 1e-5\n",
    "beta = 0.99"
   ]
  },
  {
   "cell_type": "code",
   "execution_count": 338,
   "metadata": {},
   "outputs": [],
   "source": [
    "# TODO\n",
    "# plot yhat vs. x"
   ]
  },
  {
   "cell_type": "markdown",
   "metadata": {},
   "source": [
    "## Beyond This Lab\n",
    "In this lab, we have just touched at some of the ideas in optimization.  There are several other important algorithms that you can explore:\n",
    "* [Levenberg-Marquardt](https://en.wikipedia.org/wiki/Levenberg%E2%80%93Marquardt_algorithm) method for non-linear least squares\n",
    "* Newton's method\n",
    "* More difficult non-linear least squares problems."
   ]
  },
  {
   "cell_type": "code",
   "execution_count": null,
   "metadata": {},
   "outputs": [],
   "source": []
  }
 ],
 "metadata": {
  "kernelspec": {
   "display_name": "Python 3",
   "language": "python",
   "name": "python3"
  },
  "language_info": {
   "codemirror_mode": {
    "name": "ipython",
    "version": 3
   },
   "file_extension": ".py",
   "mimetype": "text/x-python",
   "name": "python",
   "nbconvert_exporter": "python",
   "pygments_lexer": "ipython3",
   "version": "3.7.2"
  }
 },
 "nbformat": 4,
 "nbformat_minor": 2
}
