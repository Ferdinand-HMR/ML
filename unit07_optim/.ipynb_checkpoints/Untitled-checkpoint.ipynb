{
 "cells": [
  {
   "cell_type": "markdown",
   "metadata": {},
   "source": [
    "1. Pop Quiz\n",
    "    - How do you determine the optimal transform (KLT)?\n",
    "    \n",
    "    The optimal transform is determined by the number of eigenvalues taken from the image covariance matrix in the mean squared error sense.\n",
    "    \n",
    "    - What are its properties?\n",
    "    \n",
    "    The KLT coefficients are uncorrelated. It transform the data into eigenvalues and their respective eigenvectors.\n",
    "    Best maximum average energy in comparison with others unitary transforms.\n",
    "    It packed most of the signal information in fewer coefficients (largest eigenvalues)\n",
    "    \n",
    "    - What are the difficulty of using KLT in practice?\n",
    "    \n",
    "    Heavy computational algorithm, bacause covariance matrix has to be calculated for all the signal samples.\n",
    "    Requires mean and covariace information from the signal\n",
    "    \n",
    "    - Why do we use DCT for images?\n",
    "    \n",
    "    It is simple to implement and doesn't require signal statistics.\n",
    "    Signal information is packed in the larger coeffients. \n",
    "    \n",
    "    - How does transform coding work?\n",
    "    \n",
    "    It transform the input signal into a compact representation by a transform function, so a few coeffients from the transformation are needed to recover the signal. Then the coefficients are quantized and then coded."
   ]
  },
  {
   "cell_type": "markdown",
   "metadata": {},
   "source": [
    "2. For the 2x2 image S given below, compute its 2D DCT, reconstruct it by retaining different number of coefficients to evaluate the effect of different basis images."
   ]
  },
  {
   "cell_type": "code",
   "execution_count": 1,
   "metadata": {},
   "outputs": [],
   "source": [
    "import numpy as np"
   ]
  },
  {
   "cell_type": "markdown",
   "metadata": {},
   "source": [
    "Alpha Values"
   ]
  },
  {
   "cell_type": "code",
   "execution_count": 2,
   "metadata": {},
   "outputs": [],
   "source": [
    "# Define alpha values\n",
    "def alpha(u,M):\n",
    "    return np.sqrt(1 / M) if u == 0 else np.sqrt(2 / M)"
   ]
  },
  {
   "cell_type": "markdown",
   "metadata": {},
   "source": [
    "1D DCT"
   ]
  },
  {
   "cell_type": "code",
   "execution_count": 3,
   "metadata": {},
   "outputs": [],
   "source": [
    "# Define 1D DCT\n",
    "def myDCT1D(u,M):\n",
    "    x = np.array(range(M))\n",
    "    DCT = alpha(u,M) * np.cos(np.pi / M * (x + .5) * u)\n",
    "    return DCT"
   ]
  },
  {
   "cell_type": "markdown",
   "metadata": {},
   "source": [
    "Image"
   ]
  },
  {
   "cell_type": "code",
   "execution_count": 4,
   "metadata": {},
   "outputs": [
    {
     "name": "stdout",
     "output_type": "stream",
     "text": [
      "S = \n",
      "[[9 1]\n",
      " [1 9]]\n"
     ]
    }
   ],
   "source": [
    "S = np.array([[9,1],[1,9]])\n",
    "print('S = ')\n",
    "print(S)"
   ]
  },
  {
   "cell_type": "markdown",
   "metadata": {},
   "source": [
    "a) Determine the four DCT basis images"
   ]
  },
  {
   "cell_type": "code",
   "execution_count": 5,
   "metadata": {},
   "outputs": [
    {
     "name": "stdout",
     "output_type": "stream",
     "text": [
      "h0 =  [[0.70710678 0.70710678]]\n",
      "h1 =  [[ 0.70710678 -0.70710678]]\n",
      "H00 = \n",
      "[[0.5 0.5]\n",
      " [0.5 0.5]]\n",
      "H01 = \n",
      "[[ 0.5 -0.5]\n",
      " [ 0.5 -0.5]]\n",
      "H10 = \n",
      "[[ 0.5  0.5]\n",
      " [-0.5 -0.5]]\n",
      "H11 = \n",
      "[[ 0.5 -0.5]\n",
      " [-0.5  0.5]]\n"
     ]
    }
   ],
   "source": [
    "# Matrix Size:\n",
    "M,N = S.shape\n",
    "# Basis Images\n",
    "h0 = np.reshape(myDCT1D(0,M),(1,M))\n",
    "h1 = np.reshape(myDCT1D(1,M),(1,M))\n",
    "print('h0 = ', h0)\n",
    "print('h1 = ', h1)\n",
    "H00 = np.transpose(h0) * h0\n",
    "H01 = np.transpose(h0) * h1\n",
    "H10 = np.transpose(h1) * h0\n",
    "H11 = np.transpose(h1) * h1\n",
    "print('H00 = ')\n",
    "print(H00)\n",
    "print('H01 = ')\n",
    "print(H01)\n",
    "print('H10 = ')\n",
    "print(H10)\n",
    "print('H11 = ')\n",
    "print(H11)"
   ]
  },
  {
   "cell_type": "markdown",
   "metadata": {},
   "source": [
    "b) Show that these basis images are orthonormal to each other"
   ]
  },
  {
   "cell_type": "code",
   "execution_count": 6,
   "metadata": {},
   "outputs": [
    {
     "name": "stdout",
     "output_type": "stream",
     "text": [
      "Concatenating Basis Matrices:\n",
      "B = \n",
      "[[ 0.5  0.5  0.5  0.5]\n",
      " [ 0.5 -0.5  0.5 -0.5]\n",
      " [ 0.5  0.5 -0.5 -0.5]\n",
      " [ 0.5 -0.5 -0.5  0.5]]\n",
      "B^T * B = \n",
      "[[1. 0. 0. 0.]\n",
      " [0. 1. 0. 0.]\n",
      " [0. 0. 1. 0.]\n",
      " [0. 0. 0. 1.]]\n"
     ]
    }
   ],
   "source": [
    "H00 = np.reshape(H00,(1,M*N))\n",
    "H01 = np.reshape(H01,(1,M*N))\n",
    "H10 = np.reshape(H10,(1,M*N))\n",
    "H11 = np.reshape(H11,(1,M*N))\n",
    "# Remove precision numbers: \n",
    "H00 = np.round(10*H00)/10\n",
    "H01 = np.round(10*H01)/10\n",
    "H10 = np.round(10*H10)/10\n",
    "H11 = np.round(10*H11)/10\n",
    "H = np.concatenate((H00,\\\n",
    "                    H01,\\\n",
    "                    H10,\\\n",
    "                    H11))\n",
    "print('Concatenating Basis Matrices:')\n",
    "print('B = ')\n",
    "print(H)\n",
    "\n",
    "print('B^T * B = ')\n",
    "print(np.dot(np.transpose(H),H))"
   ]
  },
  {
   "cell_type": "markdown",
   "metadata": {},
   "source": [
    "$B^T*B$ is unitary, therefore, DCT basis vectors are orthonormal"
   ]
  },
  {
   "cell_type": "markdown",
   "metadata": {},
   "source": [
    "c) Determine the 2D-DCT coefficients for S, Tk,l, k=0,1;l=0,1."
   ]
  },
  {
   "cell_type": "code",
   "execution_count": 7,
   "metadata": {},
   "outputs": [
    {
     "name": "stdout",
     "output_type": "stream",
     "text": [
      "T = \n",
      "[[10.  0.]\n",
      " [ 0.  8.]]\n"
     ]
    }
   ],
   "source": [
    "# Reshape S to vector form\n",
    "S_v = np.reshape(S,(M*N,1))\n",
    "# Coefficients:\n",
    "T = np.zeros((M,N))\n",
    "T[0,0] = np.dot(H00,S_v)\n",
    "T[0,1] = np.dot(H01,S_v)\n",
    "T[1,0] = np.dot(H10,S_v)\n",
    "T[1,1] = np.dot(H11,S_v)\n",
    "print('T = ')\n",
    "print(T)"
   ]
  },
  {
   "cell_type": "markdown",
   "metadata": {},
   "source": [
    "The DCT coefficients are non-zero in the main diagonal"
   ]
  },
  {
   "cell_type": "markdown",
   "metadata": {},
   "source": [
    "d) Show that the reconstructed image from the original DFT coefficients equal to the original image."
   ]
  },
  {
   "cell_type": "code",
   "execution_count": 8,
   "metadata": {},
   "outputs": [
    {
     "name": "stdout",
     "output_type": "stream",
     "text": [
      "S_recon = \n",
      "[[9. 1.]\n",
      " [1. 9.]]\n",
      "Error: S-S_recon = \n",
      "[[0. 0.]\n",
      " [0. 0.]]\n"
     ]
    }
   ],
   "source": [
    "S_recon = T[0,0]*H00 + T[0,1]*H01 + T[1,0]*H10 + T[1,1]*H11\n",
    "S_recon = np.reshape(S_recon,(2,2))\n",
    "print('S_recon = ')\n",
    "print(S_recon)\n",
    "print('Error: S-S_recon = ')\n",
    "print(S-S_recon)"
   ]
  },
  {
   "cell_type": "markdown",
   "metadata": {},
   "source": [
    "The reconstructed image (S_recon) and original one (S) are the same.\n",
    "\n",
    "e) Modify the DCT coefficients using the given window masks (W1 to W5) and reconstruct the image using the modified DCT coefficients. (for a given mask, “1” indicates to retain that coefficient, “0” means to set the corresponding coefficient to zero) What effect do you see with each mask and why?"
   ]
  },
  {
   "cell_type": "code",
   "execution_count": 9,
   "metadata": {},
   "outputs": [],
   "source": [
    "# W1:\n",
    "W1 = [[1,0],[0,0]]\n",
    "W2 = [[0,1],[0,0]]\n",
    "W3 = [[0,0],[1,0]]\n",
    "W4 = [[0,0],[0,1]]\n",
    "W5 = [[1,0],[0,1]]"
   ]
  },
  {
   "cell_type": "markdown",
   "metadata": {},
   "source": [
    "Function to show reconstructed images"
   ]
  },
  {
   "cell_type": "code",
   "execution_count": 11,
   "metadata": {},
   "outputs": [],
   "source": [
    "def dct_mask(W,T,H00,H01,H10,H11,S):\n",
    "    # Masked coefficients:\n",
    "    T_mask = np.multiply(W,T)\n",
    "    # Reconstruction:\n",
    "    S_recon = T_mask[0,0]*H00 + T_mask[0,1]*H01 + T_mask[1,0]*H10 + T_mask[1,1]*H11\n",
    "    S_recon = np.reshape(S_recon,(2,2))\n",
    "    print('W = ')\n",
    "    print(W)\n",
    "    print('T masked = ')\n",
    "    print(T_mask)\n",
    "    print('S_recon = ')\n",
    "    print(S_recon)\n",
    "    print('Error: S-S_recon = ')\n",
    "    print(S-S_recon)"
   ]
  },
  {
   "cell_type": "markdown",
   "metadata": {},
   "source": [
    "Test reconstructed images using W1 with the original"
   ]
  },
  {
   "cell_type": "code",
   "execution_count": 12,
   "metadata": {},
   "outputs": [
    {
     "name": "stdout",
     "output_type": "stream",
     "text": [
      "W = \n",
      "[[1, 0], [0, 0]]\n",
      "T masked = \n",
      "[[10.  0.]\n",
      " [ 0.  0.]]\n",
      "S_recon = \n",
      "[[5. 5.]\n",
      " [5. 5.]]\n",
      "Error: S-S_recon = \n",
      "[[ 4. -4.]\n",
      " [-4.  4.]]\n"
     ]
    }
   ],
   "source": [
    "dct_mask(W1,T,H00,H01,H10,H11,S)"
   ]
  },
  {
   "cell_type": "markdown",
   "metadata": {},
   "source": [
    "Test reconstructed images using W2 with the original"
   ]
  },
  {
   "cell_type": "code",
   "execution_count": 13,
   "metadata": {},
   "outputs": [
    {
     "name": "stdout",
     "output_type": "stream",
     "text": [
      "W = \n",
      "[[0, 1], [0, 0]]\n",
      "T masked = \n",
      "[[0. 0.]\n",
      " [0. 0.]]\n",
      "S_recon = \n",
      "[[0. 0.]\n",
      " [0. 0.]]\n",
      "Error: S-S_recon = \n",
      "[[9. 1.]\n",
      " [1. 9.]]\n"
     ]
    }
   ],
   "source": [
    "dct_mask(W2,T,H00,H01,H10,H11,S)"
   ]
  },
  {
   "cell_type": "markdown",
   "metadata": {},
   "source": [
    "Test reconstructed images using W3 with the original"
   ]
  },
  {
   "cell_type": "code",
   "execution_count": 14,
   "metadata": {},
   "outputs": [
    {
     "name": "stdout",
     "output_type": "stream",
     "text": [
      "W = \n",
      "[[0, 0], [1, 0]]\n",
      "T masked = \n",
      "[[0. 0.]\n",
      " [0. 0.]]\n",
      "S_recon = \n",
      "[[0. 0.]\n",
      " [0. 0.]]\n",
      "Error: S-S_recon = \n",
      "[[9. 1.]\n",
      " [1. 9.]]\n"
     ]
    }
   ],
   "source": [
    "dct_mask(W3,T,H00,H01,H10,H11,S)"
   ]
  },
  {
   "cell_type": "markdown",
   "metadata": {},
   "source": [
    "Test reconstructed images using W4 with the original"
   ]
  },
  {
   "cell_type": "code",
   "execution_count": 15,
   "metadata": {},
   "outputs": [
    {
     "name": "stdout",
     "output_type": "stream",
     "text": [
      "W = \n",
      "[[0, 0], [0, 1]]\n",
      "T masked = \n",
      "[[0. 0.]\n",
      " [0. 8.]]\n",
      "S_recon = \n",
      "[[ 4. -4.]\n",
      " [-4.  4.]]\n",
      "Error: S-S_recon = \n",
      "[[5. 5.]\n",
      " [5. 5.]]\n"
     ]
    }
   ],
   "source": [
    "dct_mask(W4,T,H00,H01,H10,H11,S)"
   ]
  },
  {
   "cell_type": "markdown",
   "metadata": {},
   "source": [
    "Test reconstructed images using W5 with the original"
   ]
  },
  {
   "cell_type": "code",
   "execution_count": 16,
   "metadata": {},
   "outputs": [
    {
     "name": "stdout",
     "output_type": "stream",
     "text": [
      "W = \n",
      "[[1, 0], [0, 1]]\n",
      "T masked = \n",
      "[[10.  0.]\n",
      " [ 0.  8.]]\n",
      "S_recon = \n",
      "[[9. 1.]\n",
      " [1. 9.]]\n",
      "Error: S-S_recon = \n",
      "[[0. 0.]\n",
      " [0. 0.]]\n"
     ]
    }
   ],
   "source": [
    "dct_mask(W5,T,H00,H01,H10,H11,S)"
   ]
  },
  {
   "cell_type": "markdown",
   "metadata": {},
   "source": [
    "Comments:\n",
    "\n",
    "W1 mask only get the DC coefficient from the DCT transform. It works as a low-pass filter.\n",
    "W2 and W3 aren't able to reconstruct the image, because the selected DCT coeffients are cero.\n",
    "W4 remove the DC coefficient from the image. It works as a high-pass filter.\n",
    "W5 do a perfect reconstruction, bacause the masked DCT coeffients kept all the non-zero coefficients."
   ]
  },
  {
   "cell_type": "code",
   "execution_count": null,
   "metadata": {},
   "outputs": [],
   "source": []
  }
 ],
 "metadata": {
  "kernelspec": {
   "display_name": "Python 3",
   "language": "python",
   "name": "python3"
  },
  "language_info": {
   "codemirror_mode": {
    "name": "ipython",
    "version": 3
   },
   "file_extension": ".py",
   "mimetype": "text/x-python",
   "name": "python",
   "nbconvert_exporter": "python",
   "pygments_lexer": "ipython3",
   "version": "3.7.2"
  }
 },
 "nbformat": 4,
 "nbformat_minor": 2
}
