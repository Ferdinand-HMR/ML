{
 "cells": [
  {
   "cell_type": "markdown",
   "metadata": {},
   "source": [
    "# Lab:  Source Localization for EEG\n",
    "\n",
    "EEG or [Electroencephalography](https://en.wikipedia.org/wiki/Electroencephalography) is a powerful tool for neuroscientists in understanding brain activity.  In EEG, a patient wears a headset with electrodes that measures voltages at a number of points on the scalp.  These voltages arise from ionic currents within the brain.  A common *inverse problem* is to estimate the which parts of the brain caused the measured response.  Source localization is useful in understanding which parts of the brain are involved in certain tasks.  A key challenge in this inverse problem is that the number of unknowns (possible locations in the brain) is much larger than the number of measurements.  In this lab, we will use LASSO regression on a real EEG dataset to overcome this problem and determine the brain region that is active under an auditory stimulus.\n",
    "\n",
    "In addition to the concepts in the [prostate LASSO demo](./demo_prostate.ipynb) you will learn to:\n",
    "* Represent responses of multi-channel time-series data, such as EEG, using linear models\n",
    "* Perform LASSO and Ridge regression\n",
    "* Select the regularization level via cross-validation\n",
    "* Visually compare the sparsity between the solutions\n",
    "\n",
    "We first download standard packages."
   ]
  },
  {
   "cell_type": "code",
   "execution_count": 1,
   "metadata": {},
   "outputs": [],
   "source": [
    "import numpy as np\n",
    "import matplotlib.pyplot as plt\n",
    "import pickle\n",
    "\n",
    "from sklearn.linear_model import Lasso, Ridge, ElasticNet\n",
    "from sklearn.metrics import r2_score\n",
    "from sklearn.model_selection import train_test_split"
   ]
  },
  {
   "cell_type": "markdown",
   "metadata": {},
   "source": [
    "## Load the Data\n",
    "\n",
    "The data in this lab is taken from one of the sample datasets in the [MNE website](https://martinos.org/mne/stable/index.html). The sample data is a recording from one subject who experienced some auditory stimulus on the left ear.    \n",
    "\n",
    "The raw data is very large (`1.5G`) and also requires that you install the `mne` python package. To make this lab easier, I have extracted and processed a small section of the data. The following command will download a `pickle` file `eeg_dat.p` to your local machine.  If you do want to create the data yourself, the program to create the data is in this directory in the github repository."
   ]
  },
  {
   "cell_type": "code",
   "execution_count": 2,
   "metadata": {},
   "outputs": [
    {
     "name": "stdout",
     "output_type": "stream",
     "text": [
      "File eeg_dat.p is already downloaded\n"
     ]
    }
   ],
   "source": [
    "fn_src ='https://drive.google.com/uc?export=download&id=1RzQpKONOcXSMxH2ZzOI4iVMiTgD6ttSl'\n",
    "fn_dst ='eeg_dat.p'\n",
    "\n",
    "import os\n",
    "from six.moves import urllib\n",
    "\n",
    "if os.path.isfile(fn_dst):\n",
    "    print('File %s is already downloaded' % fn_dst)\n",
    "else:        \n",
    "    print('Fetching file %s [53MB].  This may take a minute..' % fn_dst)\n",
    "    urllib.request.urlretrieve(fn_src, fn_dst)\n",
    "    print('File %s downloaded' % fn_dst)"
   ]
  },
  {
   "cell_type": "markdown",
   "metadata": {},
   "source": [
    "Now run the following command which will get the data from the `pickle` file."
   ]
  },
  {
   "cell_type": "code",
   "execution_count": 3,
   "metadata": {},
   "outputs": [],
   "source": [
    "import pickle\n",
    "fn = 'eeg_dat.p'\n",
    "with open(fn, 'rb') as fp:\n",
    "    [X,Y] = pickle.load(fp)"
   ]
  },
  {
   "cell_type": "markdown",
   "metadata": {},
   "source": [
    "To understand the data, there are three key variables:\n",
    "* `nt`    = number of time steps that we measure data\n",
    "* `nchan` = number of channels (i.e. electrodes) measured in each time step\n",
    "* `ncur`  = number of currents in the brain that we want to estimate.  \n",
    "\n",
    "Each current comes from one brain region (called a *voxel*) in either the `x`, `y` or `z` direction.  So,\n",
    "\n",
    "    nvoxels = ncur / 3\n",
    "    \n",
    "The components of the `X` and `Y` matrices are:\n",
    "*  `Y[i,k]` = electric field measurement on channel `i` at time `k`\n",
    "*  `X[i,j]` = sensitivity of channel `i` to current `j`.\n",
    "\n",
    "Using `X.shape` and `Y.shape` compute and print `nt`, `nchan`, `ncur` and `nvoxels`."
   ]
  },
  {
   "cell_type": "code",
   "execution_count": 4,
   "metadata": {},
   "outputs": [
    {
     "name": "stdout",
     "output_type": "stream",
     "text": [
      "Number times   = 85\n",
      "Number currents = 22494\n",
      "Number voxels = 7498\n",
      "Number channels = 305\n"
     ]
    }
   ],
   "source": [
    "# TODO\n",
    "# nt = ...\n",
    "# ncur = ...\n",
    "# nchan = ...\n",
    "# nvoxels\n",
    "nchan, ncur = X.shape\n",
    "nchan, nt = Y.shape\n",
    "nvoxels = ncur // 3\n",
    "print('Number times   = %d' % nt)\n",
    "print('Number currents = %d' % ncur)\n",
    "print('Number voxels = %d' % nvoxels)\n",
    "print('Number channels = %d' % nchan)"
   ]
  },
  {
   "cell_type": "markdown",
   "metadata": {},
   "source": [
    "## Ridge Regression\n",
    "\n",
    "Our goal is to estimate the currents in the brain from the measurements `Y`.  One simple linear model is:\n",
    "\n",
    "    Y[i,k]  = \\sum_j X[i,j]*W[j,k]+ b[k]\n",
    "\n",
    "where `W[j,k]` is the value of current `j` at time `k` and `b[k]` is a bias.  We can solve for the current matrix `W` via linear regression.  \n",
    "\n",
    "Howeever, there is a problem:\n",
    "*  There are `nt x ncur` unknowns in `W`\n",
    "*  There are only `nt x nchan` measurements in `Y`.\n",
    "\n",
    "In this problem, we have:\n",
    "\n",
    "    number of measurements  << number of unknowns\n",
    "    \n",
    "We need to use regularization in these circumstances.  We first try Ridge regression.\n",
    "\n",
    "First split the data into training and test.  Use the `train_test_split` function with `test_size=0.33`."
   ]
  },
  {
   "cell_type": "code",
   "execution_count": 5,
   "metadata": {},
   "outputs": [],
   "source": [
    "# TODO\n",
    "# Xtr,Xts,Ytr,Yts = train_test_split(...) \n",
    "Xtr,Xts,Ytr,Yts = train_test_split(X,Y,test_size=0.33)"
   ]
  },
  {
   "cell_type": "markdown",
   "metadata": {},
   "source": [
    "Use the `Ridge` regression object in `sklearn` to fit the model on the training data.  Use a regularization, `alpha=1`."
   ]
  },
  {
   "cell_type": "code",
   "execution_count": 6,
   "metadata": {},
   "outputs": [
    {
     "data": {
      "text/plain": [
       "Ridge(alpha=1, copy_X=True, fit_intercept=True, max_iter=None,\n",
       "   normalize=False, random_state=None, solver='auto', tol=0.001)"
      ]
     },
     "execution_count": 6,
     "metadata": {},
     "output_type": "execute_result"
    }
   ],
   "source": [
    "regr = Ridge(alpha=1)\n",
    "regr.fit(Xtr,Ytr)"
   ]
  },
  {
   "cell_type": "markdown",
   "metadata": {},
   "source": [
    "Preict the values `Y` on both the training and test data.  Use the `r2_score` method to measure the `R^2` value on both the training and test.  You will see that `R^2` value is large for the training data, it is very low for the test data.  This suggest that even with regularization, the model is over-fitting the data."
   ]
  },
  {
   "cell_type": "code",
   "execution_count": 7,
   "metadata": {},
   "outputs": [
    {
     "name": "stdout",
     "output_type": "stream",
     "text": [
      "R^2 training =  0.6153\n",
      "R^2 test     =  0.1317\n"
     ]
    }
   ],
   "source": [
    "# TODO\n",
    "# rsq_tr = ...\n",
    "# rsq_ts = ...\n",
    "Yhat = regr.predict(Xtr)\n",
    "rsq_tr = r2_score(Ytr, Yhat)\n",
    "print('R^2 training = %7.4f' % rsq_tr)\n",
    "\n",
    "\n",
    "Yhat = regr.predict(Xts)\n",
    "rsq_ts = r2_score(Yts, Yhat)\n",
    "print('R^2 test     = %7.4f' % rsq_ts)\n"
   ]
  },
  {
   "cell_type": "markdown",
   "metadata": {},
   "source": [
    "Next, try to see if we can get a better `R^2` score using different values of `alpha`.  Use cross-validation to measure the test `R^2` for 20 `alpha` values logarithmically spaced from `10^{-2}` to `10^{2}` (use `np.logspace()`).  You can use regular cross-validation.  You do not need to do `K`-fold."
   ]
  },
  {
   "cell_type": "code",
   "execution_count": 8,
   "metadata": {},
   "outputs": [
    {
     "name": "stdout",
     "output_type": "stream",
     "text": [
      "alpha=  1.0000e-02 rsq=-0.3991\n",
      "alpha=  1.6238e-02 rsq=-0.2827\n",
      "alpha=  2.6367e-02 rsq=-0.1743\n",
      "alpha=  4.2813e-02 rsq=-0.0774\n",
      "alpha=  6.9519e-02 rsq= 0.0054\n",
      "alpha=  1.1288e-01 rsq= 0.0714\n",
      "alpha=  1.8330e-01 rsq= 0.1185\n",
      "alpha=  2.9764e-01 rsq= 0.1455\n",
      "alpha=  4.8329e-01 rsq= 0.1526\n",
      "alpha=  7.8476e-01 rsq= 0.1422\n",
      "alpha=  1.2743e+00 rsq= 0.1187\n",
      "alpha=  2.0691e+00 rsq= 0.0886\n",
      "alpha=  3.3598e+00 rsq= 0.0582\n",
      "alpha=  5.4556e+00 rsq= 0.0325\n",
      "alpha=  8.8587e+00 rsq= 0.0134\n",
      "alpha=  1.4384e+01 rsq= 0.0005\n",
      "alpha=  2.3357e+01 rsq=-0.0078\n",
      "alpha=  3.7927e+01 rsq=-0.0131\n",
      "alpha=  6.1585e+01 rsq=-0.0164\n",
      "alpha=  1.0000e+02 rsq=-0.0186\n"
     ]
    }
   ],
   "source": [
    "# TODO\n",
    "alphas = np.logspace(-2,2,20)\n",
    "rsq = []\n",
    "\n",
    "for a in alphas:\n",
    "    regr = Ridge(alpha=a)\n",
    "    regr.fit(Xtr,Ytr)\n",
    "    \n",
    "    Yhat = regr.predict(Xts)\n",
    "    rsqi = r2_score(Yts, Yhat)\n",
    "    rsq.append(rsqi)\n",
    "    \n",
    "    print('alpha=%12.4e rsq=%7.4f' % (a,rsqi))"
   ]
  },
  {
   "cell_type": "markdown",
   "metadata": {},
   "source": [
    "Plot the test `R^2` vs. `alpha`.  And print the maximum test `R^2`.  You should see that the maximum test `R^2` is still not very high."
   ]
  },
  {
   "cell_type": "code",
   "execution_count": 9,
   "metadata": {},
   "outputs": [
    {
     "name": "stdout",
     "output_type": "stream",
     "text": [
      "Optimal R^2 =  0.1526\n"
     ]
    },
    {
     "data": {
      "image/png": "[encoded data removed]",
      "text/plain": [
       "<Figure size 432x288 with 1 Axes>"
      ]
     },
     "metadata": {
      "needs_background": "light"
     },
     "output_type": "display_data"
    }
   ],
   "source": [
    "rsq = np.array(rsq)\n",
    "plt.semilogx(alphas, rsq, 'o-')\n",
    "plt.grid()\n",
    "\n",
    "rsq_opt = np.max(rsq)\n",
    "print('Optimal R^2 = %7.4f' % rsq_opt)"
   ]
  },
  {
   "cell_type": "markdown",
   "metadata": {},
   "source": [
    "Now, let's take a look at the solution. \n",
    "\n",
    "* Find the optimal regularization `alpha` from the cross-validation\n",
    "* Re-fit the model at the optimal `alpha`\n",
    "* Get the current matrix `W` from the coefficients in the linear model.  These are stored in `regr.coef_`.  You may need a transpose\n",
    "* For each current `j` compute `Wrms[j] =  sqrt( sum_k W[j,k]**2 )` which is root mean squared current.\n",
    "\n",
    "You will see that the vector `Wrms` is not sparse.  This means that the solution that is found with Ridge regression finds currents in all locations."
   ]
  },
  {
   "cell_type": "code",
   "execution_count": 10,
   "metadata": {},
   "outputs": [
    {
     "data": {
      "image/png": "[encoded data removed]",
      "text/plain": [
       "<Figure size 432x288 with 1 Axes>"
      ]
     },
     "metadata": {
      "needs_background": "light"
     },
     "output_type": "display_data"
    }
   ],
   "source": [
    "im = np.argmax(rsq)\n",
    "aopt = alphas[im]\n",
    "\n",
    "regr = Ridge(alpha=aopt)\n",
    "regr.fit(Xtr,Ytr)\n",
    "\n",
    "W = regr.coef_.T\n",
    "Wrms = np.sqrt(np.sum(W**2, axis=1))\n",
    "\n",
    "plt.plot(Wrms)\n",
    "plt.grid()"
   ]
  },
  {
   "cell_type": "markdown",
   "metadata": {},
   "source": [
    "## LASSO Regression\n",
    "\n",
    "We can improve the estimate by imposing sparsity.  Biologically, we know that only a limited number of brain regions should be involved in the reponse to a particular stimuli.  As a result, we would expect that the current matrix `W[j,k]` to be zero for most values `j,k`.  We can impose this constraint using LASSO regularization.\n",
    "\n",
    "Re-fit the training data using the `Lasso` model with `alpha=1e-3`.  Also set `max_iter=100` and `tol=0.01`.  The LASSO solver is much slower, so this make take a minute."
   ]
  },
  {
   "cell_type": "code",
   "execution_count": 11,
   "metadata": {},
   "outputs": [
    {
     "data": {
      "text/plain": [
       "Lasso(alpha=0.001, copy_X=True, fit_intercept=True, max_iter=100,\n",
       "   normalize=False, positive=False, precompute=False, random_state=None,\n",
       "   selection='cyclic', tol=0.01, warm_start=False)"
      ]
     },
     "execution_count": 11,
     "metadata": {},
     "output_type": "execute_result"
    }
   ],
   "source": [
    "# TODO\n",
    "regr = Lasso(alpha = 1e-3,max_iter=100,tol=0.01)\n",
    "regr.fit(Xtr,Ytr)"
   ]
  },
  {
   "cell_type": "markdown",
   "metadata": {},
   "source": [
    "Now, test the model on the test data and measure the `R^2` value.  You should get a much better fit than with the Ridge regression solution.  "
   ]
  },
  {
   "cell_type": "code",
   "execution_count": 12,
   "metadata": {},
   "outputs": [
    {
     "name": "stdout",
     "output_type": "stream",
     "text": [
      "0.16324006574382668\n"
     ]
    }
   ],
   "source": [
    "# TODO\n",
    "Yhat = regr.predict(Xts)\n",
    "rsq = r2_score(Yts, Yhat)\n",
    "print(rsq)"
   ]
  },
  {
   "cell_type": "markdown",
   "metadata": {},
   "source": [
    "We can now search for the optimal `alpha`.  Use cross-validation to find the `alpha` logarithically space between `alpha=10^{-3}` and `alpha=10^{-4}`.  Each fit takes some time, so use only 5 values of `alpha`. Also for each `alpha` store the current matrix.  This way, you will not have to re-fit the model."
   ]
  },
  {
   "cell_type": "code",
   "execution_count": null,
   "metadata": {},
   "outputs": [
    {
     "name": "stdout",
     "output_type": "stream",
     "text": [
      "alpha =   1.0000e-04 rsq= 0.1827\n",
      "alpha =   1.7783e-04 rsq= 0.2281\n"
     ]
    }
   ],
   "source": [
    "alphas = np.logspace(-4,-3,5)\n",
    "rsq = []\n",
    "Ws = []\n",
    "\n",
    "for a in alphas:\n",
    "    \n",
    "    # Fit the model\n",
    "    regr = Lasso(alpha =a, max_iter=100, tol=0.01)\n",
    "    regr.fit(Xtr,Ytr)\n",
    "    \n",
    "    # Predict \n",
    "    Yhat = regr.predict(Xts)\n",
    "    \n",
    "    # Score\n",
    "    rsqi = r2_score(Yts, Yhat)\n",
    "    rsq.append(rsqi)\n",
    "    \n",
    "    # Save the current matrix\n",
    "    Ws.append(regr.coef_.T)\n",
    "    \n",
    "    \n",
    "    # Print results\n",
    "    print('alpha = %12.4e rsq=%7.4f' % (a, rsqi))"
   ]
  },
  {
   "cell_type": "markdown",
   "metadata": {},
   "source": [
    "Plot the `r^2` value vs. `alpha`.  Print the optimal `r^2`.  You should see it is much higher than with the best Ridge Regression case."
   ]
  },
  {
   "cell_type": "code",
   "execution_count": null,
   "metadata": {},
   "outputs": [],
   "source": [
    "rsq = np.array(rsq)\n",
    "plt.semilogx(alphas, rsq, 'o-')\n",
    "plt.grid()\n",
    "\n",
    "rsq_opt = np.max(rsq)\n",
    "print('Optimal test R^2 = %7.4f' % rsq_opt)"
   ]
  },
  {
   "cell_type": "markdown",
   "metadata": {},
   "source": [
    "Display the current matrix `W` for the optimal `alpha` as you did in the Ridge Regression case.  You will see that is much sparser."
   ]
  },
  {
   "cell_type": "code",
   "execution_count": 17,
   "metadata": {},
   "outputs": [
    {
     "data": {
      "image/png": "[encoded data removed]",
      "text/plain": [
       "<Figure size 432x288 with 1 Axes>"
      ]
     },
     "metadata": {
      "needs_background": "light"
     },
     "output_type": "display_data"
    }
   ],
   "source": [
    "iopt = np.argmax(rsq)\n",
    "Wopt = Ws[iopt]\n",
    "Wrms = np.sqrt(np.sum(Wopt**2, axis=1))\n",
    "\n",
    "plt.plot(Wrms)\n",
    "plt.grid()"
   ]
  },
  {
   "cell_type": "markdown",
   "metadata": {},
   "source": [
    "## More fun\n",
    "\n",
    "If you want to more on this lab:\n",
    "* Install the [MNE python package](https://martinos.org/mne/stable/index.html).  This is an amazing package with many tools for processing EEG data.\n",
    "* In particular, you can use the above results to visualize where in the brain the currents sources are.\n",
    "* You can also improve the fitting with more regularization.  For example, we know that the currents will be non-zero in groups:  If the current is non-zero for one time, it is likely to non-zero for all time.  You can use the Group LASSO method.\n",
    "* You can combine these results to make predictions about what the patient is seeing or hearing or thinking."
   ]
  },
  {
   "cell_type": "code",
   "execution_count": null,
   "metadata": {},
   "outputs": [],
   "source": []
  }
 ],
 "metadata": {
  "kernelspec": {
   "display_name": "Python 3",
   "language": "python",
   "name": "python3"
  },
  "language_info": {
   "codemirror_mode": {
    "name": "ipython",
    "version": 3
   },
   "file_extension": ".py",
   "mimetype": "text/x-python",
   "name": "python",
   "nbconvert_exporter": "python",
   "pygments_lexer": "ipython3",
   "version": "3.7.2"
  }
 },
 "nbformat": 4,
 "nbformat_minor": 2
}
