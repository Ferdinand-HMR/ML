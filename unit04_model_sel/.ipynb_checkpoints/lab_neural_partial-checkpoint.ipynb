{
 "cells": [
  {
   "cell_type": "markdown",
   "metadata": {},
   "source": [
    "## EE-UY 4563/EL-GY 9123: Introduction to machine learning\n",
    "Ernesto Akio Yoshimoto\n",
    "\n",
    "N12949891\n",
    "\n",
    "Lab #4"
   ]
  },
  {
   "cell_type": "markdown",
   "metadata": {},
   "source": [
    "# Lab:  Model Order Selection for Neural Data\n",
    "\n",
    "Machine learning is a key tool for neuroscientists to understand how sensory and motor signals are encoded in the brain.  In addition to improving our scientific understanding of neural phenomena, understanding neural encoding is critical for brain machine interfaces.  In this lab, you will use model selection for performing some simple analysis on real neural signals.  \n",
    "\n",
    "Before doing this lab, you should review the ideas in the [polynomial model selection demo](./polyfit.ipynb).  In addition to the concepts in that demo, you will learn to:\n",
    "* Represent neural time-series data in arrays\n",
    "* Load data from a pickle file\n",
    "* Describe and fit memoryless linear models\n",
    "* Describe and fit linear time-series models with delays\n",
    "* Fit linear models with multiple target outputs\n",
    "* Select the optimal delay via cross-validation"
   ]
  },
  {
   "cell_type": "markdown",
   "metadata": {},
   "source": [
    "## Loading the data\n",
    "\n",
    "The data in this lab comes from neural recordings described in:\n",
    "\n",
    "<a href=\"http://jn.physiology.org/content/106/2/764.short\">\n",
    "Stevenson, Ian H., et al. \"Statistical assessment of the stability of neural movement representations.\" Journal of neurophysiology 106.2 (2011): 764-774</a>\n",
    "\n",
    "Neurons are the basic information processing units in the brain.  Neurons communicate with one another via *spikes* or *action potentials* which are brief events where voltage in the neuron rapidly rises then falls.  These spikes trigger the electro-chemical signals between one neuron and another.  In this experiment, the spikes were recorded from 196 neurons in the primary motor cortex (M1) of a monkey using an electrode array implanted onto the surface of a monkey's brain.  During the recording, the monkey performed several reaching tasks and the position and velocity of the hand was recorded as well.  \n",
    "\n",
    "The goal of the experiment is to try to *read the monkey's brain*:  That is, predict the hand motion from the neural signals from the motor cortex.\n",
    "\n",
    "We first load the key packages."
   ]
  },
  {
   "cell_type": "code",
   "execution_count": 11,
   "metadata": {},
   "outputs": [],
   "source": [
    "import numpy as np\n",
    "import matplotlib.pyplot as plt\n",
    "import pickle\n",
    "\n",
    "from sklearn.linear_model import LinearRegression\n",
    "from sklearn.metrics import r2_score"
   ]
  },
  {
   "cell_type": "code",
   "execution_count": 61,
   "metadata": {},
   "outputs": [
    {
     "name": "stdout",
     "output_type": "stream",
     "text": [
      "RSS of test data =  [0.0017556303839546886, 2.959794384303147e-06, 9.182833974838341e-32, 1.1270850183345206e-31, 1.232595164407831e-31, 1.5959642188752596e-31, 1.1058843815067059e-31, 1.151243883556914e-31, 1.5451812981016568e-31, 1.0592922842920898e-31]\n",
      "Model with lowest RSS happens when degree is  2\n"
     ]
    }
   ],
   "source": [
    "import numpy as np\n",
    "from sklearn.linear_model import LinearRegression\n",
    "from sklearn.model_selection import train_test_split\n",
    "# Data size\n",
    "N = 1000\n",
    "# Function order\n",
    "d = 3\n",
    "# Maximun possible function order\n",
    "dmax = 10\n",
    "# u input\n",
    "u = np.random.random_sample((N,1))\n",
    "# Beta values\n",
    "beta = np.random.random_sample((dmax,1))\n",
    "beta[d:dmax] = 0\n",
    "# j index\n",
    "j = np.arange(0,dmax)\n",
    "# X = exp(-ju/d)\n",
    "X = u/d\n",
    "X = np.exp(-X*j)\n",
    "# y values\n",
    "y = np.matmul(X,beta)\n",
    "# Noise\n",
    "# e = np.random.normal(0,0.01,(N,1))\n",
    "# yrnd = y + e\n",
    "# Splits the data into training and test using half the samples for each\n",
    "Xtr, Xts, ytr, yts = train_test_split(X,y,test_size=0.5)\n",
    "# Linear regression object\n",
    "model = LinearRegression()\n",
    "dtest = np.array(range(0,dmax))\n",
    "RSSts = []\n",
    "for D in dtest:\n",
    "    # print(Xtr[:,0:D+1])\n",
    "    # Fit data\n",
    "    model.fit(Xtr[:,0:D+1],ytr)\n",
    "    # Measure RSS on test data\n",
    "    yhat = model.predict(Xts[:,0:D+1])\n",
    "    RSSd = np.mean((yhat-yts)**2)\n",
    "    RSSts.append(RSSd)\n",
    "print('RSS of test data = ', RSSts)\n",
    "print('Model with lowest RSS happens when degree is ', np.argmin(RSSts))"
   ]
  },
  {
   "cell_type": "markdown",
   "metadata": {},
   "source": [
    "The full data is available on the CRCNS website  http://crcns.org/data-sets/movements/dream.  This website has a large number of great datasets and can be used for projects as well.  However, the raw data files can be quite large.  To make the lab easier, the [Kording lab](http://kordinglab.com/) at UPenn has put together an excellent [repository](https://github.com/KordingLab/Neural_Decoding) where they have created simple pre-processed versions of the data.  You can download the file `example_data_s1.pickle` from the [Dropbox link](https://www.dropbox.com/sh/n4924ipcfjqc0t6/AADOv9JYMUBK1tlg9P71gSSra/example_data_s1.pickle?dl=0).  Alternatively, you can directly run the following code.  This may take a little while to download since the file is 26 MB."
   ]
  },
  {
   "cell_type": "code",
   "execution_count": 40,
   "metadata": {},
   "outputs": [
    {
     "name": "stdout",
     "output_type": "stream",
     "text": [
      "File example_data_s1.pickle is already downloaded\n"
     ]
    }
   ],
   "source": [
    "fn_src = 'https://www.dropbox.com/sh/n4924ipcfjqc0t6/AADOv9JYMUBK1tlg9P71gSSra/example_data_s1.pickle?dl=1'\n",
    "fn_dst = 'example_data_s1.pickle'\n",
    "\n",
    "import os\n",
    "from six.moves import urllib\n",
    "\n",
    "if os.path.isfile(fn_dst):\n",
    "    print('File %s is already downloaded' % fn_dst)\n",
    "else:        \n",
    "    urllib.request.urlretrieve(fn_src, fn_dst)"
   ]
  },
  {
   "cell_type": "markdown",
   "metadata": {},
   "source": [
    "The file is a *pickle* data structure, which is a package to serialize python objects into data files.  Once you have downloaded the file, you can run the following command to retrieve the data from the pickle file."
   ]
  },
  {
   "cell_type": "code",
   "execution_count": 31,
   "metadata": {},
   "outputs": [],
   "source": [
    "with open('example_data_s1.pickle', 'rb') as fp:\n",
    "    X,y = pickle.load(fp)"
   ]
  },
  {
   "cell_type": "markdown",
   "metadata": {},
   "source": [
    "The matrix `X` is matrix of spike counts where `X[i,j]` is the number of spikes from neuron `j` in time bin `i`.\n",
    "The matrix `y` has two columns:\n",
    "* `y[i,0] = ` velocity of the monkey's hand in the x-direction\n",
    "* `y[i,1] = ` velocity of the monkey's hand in the y-direction\n",
    "Our goal will be to predict `y` from `X`.  \n",
    "\n",
    "Each time bin represent `tsamp=0.05` seconds of time.  Using `X.shape` and `y.shape` compute and print:\n",
    "* `nt = ` the total number of time bins\n",
    "* `nneuron = ` the total number of neurons\n",
    "* `nout = ` the total number of output variables to track = number of columns in `y`\n",
    "* `ttotal = ` total time of the experiment is seconds. "
   ]
  },
  {
   "cell_type": "code",
   "execution_count": 32,
   "metadata": {},
   "outputs": [
    {
     "name": "stdout",
     "output_type": "stream",
     "text": [
      "Total Number of Time Bins (nt) =                    61339\n",
      "Total Number of Neurons (nneuron) =                 52\n",
      "Total Number of Output Variables to Track (nout) =  2\n",
      "Total Time of Experiment (ttotal) =                 3066.95  sec.\n"
     ]
    }
   ],
   "source": [
    "tsamp = 0.05  # sampling time in seconds\n",
    "\n",
    "# TODO\n",
    "# nt = ...\n",
    "nt = X.shape[0]\n",
    "# nneuron = ..\n",
    "nneuron = X.shape[1]\n",
    "# nout = ...\n",
    "nout = y.shape[1]\n",
    "# ttotal = ...\n",
    "ttotal = tsamp * nt\n",
    "print('Total Number of Time Bins (nt) =                   ', nt)\n",
    "print('Total Number of Neurons (nneuron) =                ', nneuron)\n",
    "print('Total Number of Output Variables to Track (nout) = ', nout)\n",
    "print('Total Time of Experiment (ttotal) =                 %.2f' % ttotal, ' sec.')\n"
   ]
  },
  {
   "cell_type": "markdown",
   "metadata": {},
   "source": [
    "## Fitting a Memoryless Linear Model\n",
    "\n",
    "Let's first try a simple linear regression model to fit the data.\n",
    "\n",
    "First, use the `train_test_split` function to split the data into training and test.  Let `Xtr,ytr` be the training data set and `Xts,yts` be the test data set.  Use `test_size=0.33` so `1/3` of the data is used for test."
   ]
  },
  {
   "cell_type": "code",
   "execution_count": 33,
   "metadata": {},
   "outputs": [
    {
     "name": "stdout",
     "output_type": "stream",
     "text": [
      "Size of Xtr (41097, 52)\n",
      "Size of ytr (41097, 2)\n",
      "Size of Xts (20242, 52)\n",
      "Size of yts (20242, 2)\n"
     ]
    }
   ],
   "source": [
    "from sklearn.model_selection import train_test_split\n",
    "\n",
    "# TODO\n",
    "# Xtr, Xts, ytr, yts = ...\n",
    "Xtr, Xts, ytr, yts = train_test_split(X,y,test_size=0.33)\n",
    "print('Size of Xtr', Xtr.shape)\n",
    "print('Size of ytr', ytr.shape)\n",
    "print('Size of Xts', Xts.shape)\n",
    "print('Size of yts', yts.shape)"
   ]
  },
  {
   "cell_type": "markdown",
   "metadata": {},
   "source": [
    "Now, fit a linear model using `Xtr,ytr`.  Make a prediction  `yhat` using `Xts`.  Compare `yhat` to `yts` to measure `rsq`, the  `R^2`.  You can use the `r2_score` method. Print the `rsq` value.  You should get `rsq` of around `0.45`. "
   ]
  },
  {
   "cell_type": "code",
   "execution_count": 34,
   "metadata": {},
   "outputs": [
    {
     "name": "stdout",
     "output_type": "stream",
     "text": [
      "rsq value = 0.4668\n"
     ]
    }
   ],
   "source": [
    "# TODO\n",
    "# yhat = ...\n",
    "# Create linear regression object\n",
    "regr = LinearRegression()\n",
    "# Train the model using the training sets\n",
    "regr.fit(Xtr, ytr)\n",
    "# Make predictions using the testing set\n",
    "yhat = regr.predict(Xts)\n",
    "# rsq = ...\n",
    "rsq = r2_score(yts, yhat)\n",
    "print('rsq value = %.4f' %rsq)"
   ]
  },
  {
   "cell_type": "markdown",
   "metadata": {},
   "source": [
    "It is useful to plot the predicted vs. true values.  Since we have two outputs, create two `subplots` using the `plt.subplot()` command.  In plot `i=0,1`, plot `yhat[:,i]` vs. `yts[:,i]` with a scatter plot.   Label the axes of the plots.  You may also use the command:\n",
    "\n",
    "    plt.figure(figsize=(10,5))\n",
    "    \n",
    "to make the figures a little larger."
   ]
  },
  {
   "cell_type": "code",
   "execution_count": 7,
   "metadata": {},
   "outputs": [
    {
     "data": {
      "image/png": "[encoded data removed]",
      "text/plain": [
       "<Figure size 432x288 with 2 Axes>"
      ]
     },
     "metadata": {
      "needs_background": "light"
     },
     "output_type": "display_data"
    },
    {
     "data": {
      "text/plain": [
       "<Figure size 720x360 with 0 Axes>"
      ]
     },
     "metadata": {},
     "output_type": "display_data"
    }
   ],
   "source": [
    "# TODO\n",
    "plt.subplot(1,3,1) \n",
    "plt.scatter(yhat[:,0],yts[:,0])\n",
    "plt.xlabel('yhat[:,0]')\n",
    "plt.ylabel('yts[:,0]')\n",
    "plt.grid()\n",
    "plt.subplot(1,3,3) \n",
    "plt.scatter(yhat[:,1],yts[:,1])\n",
    "plt.xlabel('yhat[:,1]')\n",
    "plt.ylabel('yts[:,1]')\n",
    "plt.grid()\n",
    "plt.figure(figsize=(10,5))\n",
    "plt.show()"
   ]
  },
  {
   "cell_type": "markdown",
   "metadata": {},
   "source": [
    "## Fitting Models with Delay\n",
    "\n",
    "One way we can improve the model accuracy is to used delayed version of the features.  Specifically, the model we used above mapped the features \n",
    "\n",
    "$$yhat[i,k] = \\sum_{j=0}^{p-1} X[i,j]*w[j,k] + b[k]$$\n",
    "    \n",
    "where $p$ is the number of features and $w[j,k]$ is a matrix of coefficients.  In this model,  $yhat[i,:]$ at time $i$ was only dependent on the inputs  $X[i,:]$ at time $i$.  In signal processing, this is called a *memoryless* model.  However, in many physical systems, such as those that arise in neuroscience, there is a delay between the inputs $X[i,:]$ and the outputs $y[i]$.  For such cases, we can use a model of the form,\n",
    "\n",
    "$$yhat[i+d,k] = \\sum_{k=0}^d  \\sum_{j=0}^{p-1} \\sum_{m=0}^d X[i+m,j]*W[j,m,k] + b[k]$$\n",
    "    \n",
    "where $W$ is a 3-dim array of coefficients where:\n",
    "\n",
    "$W[j,m,k]$ is the influence of the input $X[i+m,j]$ onto output $y[i+d,k]$\n",
    "\n",
    "\n",
    "In signal processing, this model is called an *FIR* filter and $W[j,m,k]$ is the *impulse response* from the $j$-th input to the $k$-th output.  The point is that the output at time $i+d$ depends on the inputs at times $i,i+1,...,i+d$.  Hence, it depends on the last $d+1$ time steps, not just the most recent time.\n",
    "\n",
    "To translate this into a linear regression problem, complete the following function that creates a new feature and target matrix where:\n",
    "\n",
    "$X_{dly}[i,:]$ has the rows $X[i,:]$, $X[i+1,:]$, ..., $X[i+dly,:]$\n",
    "\n",
    "$y_{dly}[i,:] = y[i+dly,:]$\n",
    "    \n",
    "Thus, $X_{dly}[i,:]$ contains all the delayed fetaures for the target $yhat$.  Note that if $X$ is $n$ x $p$ then $X_{dly}$ will be $(n-dly)$ x $(dly+1)*p$.  \n"
   ]
  },
  {
   "cell_type": "code",
   "execution_count": 8,
   "metadata": {},
   "outputs": [
    {
     "name": "stdout",
     "output_type": "stream",
     "text": [
      "dly =           2\n",
      "Size of X =     (61339, 52)\n",
      "Size of Xdly =  (61337, 156)\n",
      "Size of y =     (61339, 2)\n",
      "Size of ydly =  (61337, 2)\n"
     ]
    }
   ],
   "source": [
    "def create_dly_data(X,y,dly):\n",
    "    \"\"\"\n",
    "    Create delayed data\n",
    "    \"\"\"    \n",
    "    # TODO\n",
    "    # Xdly = ...\n",
    "    # Initialize Xdly:\n",
    "    m,n = X.shape\n",
    "    Xdly = np.zeros((m-dly,dly+1,n))\n",
    "    # Copy X(2D) into Xdly(3D):\n",
    "    for i in range(dly+1):\n",
    "        # print(i)\n",
    "        Xdly[:,i,:] = X[i:m-dly+i,:]\n",
    "    # ydly = ...\n",
    "    # Copy y into ydly:\n",
    "    Xdly = np.reshape(Xdly,(m-dly,(dly+1)*n))\n",
    "    ydly = y[dly:,:]\n",
    "    return Xdly, ydly\n",
    "dly = 2\n",
    "Xdly, ydly = create_dly_data(X,y,dly)\n",
    "print('dly =          ', dly)\n",
    "print('Size of X =    ', X.shape)\n",
    "print('Size of Xdly = ', Xdly.shape)\n",
    "print('Size of y =    ', y.shape)\n",
    "print('Size of ydly = ', ydly.shape)"
   ]
  },
  {
   "cell_type": "markdown",
   "metadata": {},
   "source": [
    "Now fit an linear delayed model with $dly=6$ additional delay lags.  That is,\n",
    "* Create delayed data `Xdly,ydly=create_dly_data(X,y,dly=6)`\n",
    "* Split the data into training and test as before\n",
    "* Fit the model on the training data\n",
    "* Measure the $R^2$ score on the test data\n",
    "\n",
    "If you did this correctly, you should get a new $R^2$ score around 0.69.  This is significantly better than the memoryless models."
   ]
  },
  {
   "cell_type": "code",
   "execution_count": 9,
   "metadata": {},
   "outputs": [
    {
     "name": "stdout",
     "output_type": "stream",
     "text": [
      "Size of Xtr (41093, 364)\n",
      "Size of ytr (41093, 2)\n",
      "Size of Xts (20240, 364)\n",
      "Size of yts (20240, 2)\n",
      "rsq value = 0.6950\n"
     ]
    }
   ],
   "source": [
    "# TODO\n",
    "Xdly, ydly = create_dly_data(X,y,dly=6)\n",
    "Xtr, Xts, ytr, yts = train_test_split(Xdly,ydly,test_size=0.33)\n",
    "print('Size of Xtr', Xtr.shape)\n",
    "print('Size of ytr', ytr.shape)\n",
    "print('Size of Xts', Xts.shape)\n",
    "print('Size of yts', yts.shape)\n",
    "# Create linear regression object\n",
    "regr = LinearRegression()\n",
    "# Train the model using the training sets\n",
    "regr.fit(Xtr, ytr)\n",
    "# Make predictions using the testing set\n",
    "yhat = regr.predict(Xts)\n",
    "# rsq = ...\n",
    "rsq = r2_score(yts, yhat)\n",
    "print('rsq value = %.4f' %rsq)"
   ]
  },
  {
   "cell_type": "markdown",
   "metadata": {},
   "source": [
    "Plot the predicted vs. true values as before. You should visually see a better fit."
   ]
  },
  {
   "cell_type": "code",
   "execution_count": 10,
   "metadata": {},
   "outputs": [
    {
     "data": {
      "image/png": "[encoded data removed]",
      "text/plain": [
       "<Figure size 432x288 with 2 Axes>"
      ]
     },
     "metadata": {
      "needs_background": "light"
     },
     "output_type": "display_data"
    },
    {
     "data": {
      "text/plain": [
       "<Figure size 720x360 with 0 Axes>"
      ]
     },
     "metadata": {},
     "output_type": "display_data"
    }
   ],
   "source": [
    "# TODO\n",
    "plt.subplot(1,3,1) \n",
    "plt.scatter(yhat[:,0],yts[:,0])\n",
    "plt.xlabel('yhat[:,0]')\n",
    "plt.ylabel('yts[:,0]')\n",
    "plt.grid()\n",
    "plt.subplot(1,3,3) \n",
    "plt.scatter(yhat[:,1],yts[:,1])\n",
    "plt.xlabel('yhat[:,1]')\n",
    "plt.ylabel('yts[:,1]')\n",
    "plt.grid()\n",
    "plt.figure(figsize=(10,5))\n",
    "plt.show()"
   ]
  },
  {
   "cell_type": "markdown",
   "metadata": {},
   "source": [
    "*Note*:  Fitting an FIR model with the above method is very inefficient when the number of delays, `dly` is large.  In the above method, the number of columns of `X` grows from `p` to `(dly+1)*p` and the computations become expensive with `dly` is large.  We will describe a much faster way to fit such models using gradient descent when we talk about convolutional neural networks."
   ]
  },
  {
   "cell_type": "markdown",
   "metadata": {},
   "source": [
    "## Selecting the Optimal Delay via Model Order Selection\n",
    "\n",
    "In the previous example, we fixed `dly=6`.  We can now select the optimal delay using model order selection.  Since we have a large number of data samples, it turns out that the optimal model order uses a very high delay.  Using the above fitting method, the computations take too long.  So, to simplify the lab, we will first just pretent that we have a very limited data set.\n",
    "\n",
    "Compute `Xred` and `yred` by taking the first `nred=6000` samples of the data `X` and `y`.  This is about 10% of the overall data."
   ]
  },
  {
   "cell_type": "code",
   "execution_count": 11,
   "metadata": {},
   "outputs": [],
   "source": [
    "nred = 6000\n",
    "\n",
    "# TODO\n",
    "# Xred = ...\n",
    "Xred = X[0:nred,:]\n",
    "# yred = ...\n",
    "yred = y[0:nred,:]"
   ]
  },
  {
   "cell_type": "markdown",
   "metadata": {},
   "source": [
    "We will look at model orders up to `dmax=15`.  Create a delayed matrix data, `Xdly,ydly` from the reduced data, `Xred,yred` using `create_dly_data` with `dly=dmax`."
   ]
  },
  {
   "cell_type": "code",
   "execution_count": 12,
   "metadata": {},
   "outputs": [],
   "source": [
    "dmax = 15\n",
    "\n",
    "# TODO\n",
    "# Xdly, ydly = ...\n",
    "Xdly, ydly = create_dly_data(Xred,yred,dly=dmax)\n",
    "# Reshape to 3D matrix\n",
    "m, n = Xred.shape\n",
    "Xdly = np.reshape(Xdly,(m-dmax,dmax+1,n))\n",
    "# print(m,n)\n",
    "# print(Xdly.shape)"
   ]
  },
  {
   "cell_type": "markdown",
   "metadata": {},
   "source": [
    "Complete the following code to implement K-fold cross validation with `nfold=5` and values of delays `dtest = [0,1,...,dmax]`."
   ]
  },
  {
   "cell_type": "code",
   "execution_count": 13,
   "metadata": {},
   "outputs": [
    {
     "name": "stdout",
     "output_type": "stream",
     "text": [
      "fold = 0 \n",
      "fold = 1 \n",
      "fold = 2 \n",
      "fold = 3 \n",
      "fold = 4 \n"
     ]
    }
   ],
   "source": [
    "import  sklearn.model_selection \n",
    "\n",
    "# Number of folds\n",
    "nfold = 5\n",
    "\n",
    "# TODO:  Create a k-fold object\n",
    "# kf = sklearn.model_selection.KFold(...)\n",
    "kf = sklearn.model_selection.KFold(n_splits=nfold,shuffle=True)\n",
    "\n",
    "# TODO:  Model orders to be tested\n",
    "# dtest = vector [0,1,...,dmax]  \n",
    "# nd = len(dtest)\n",
    "dtest = np.arange(dmax+1)\n",
    "nd = len(dtest)\n",
    "# TODO.  \n",
    "# Initialize a matrix Rsq to hold values of the R^2 across the model orders and folds.\n",
    "# Rsq = np.zeros(...)\n",
    "Rsq = np.zeros((nd,nfold))\n",
    "# Loop over the folds\n",
    "for isplit, Ind in enumerate(kf.split(Xdly)):\n",
    "    \n",
    "    print(\"fold = %d \" % isplit)\n",
    "    \n",
    "    # Get the training data in the split\n",
    "    Itr, Its = Ind        \n",
    "    # print(Itr)\n",
    "    # print(Its)\n",
    "    for it, d in enumerate(dtest):\n",
    "        # TODO:  \n",
    "        # Xdly1 = Xdly with the columns corresponding to only the `d+1` most recent times.\n",
    "        Xdly1 = Xdly[:,:d+1,:]\n",
    "        Xdly1 = np.reshape(Xdly1,(m-dmax,(d+1)*n))\n",
    "        # TODO\n",
    "        # Split the data (Xdly1,ydly) into training and test\n",
    "        # Xtr = ...\n",
    "        Xtr = Xdly1[Itr,:]\n",
    "        # ytr = ...\n",
    "        ytr = ydly[Itr,:]\n",
    "        # Xts = ...\n",
    "        Xts = Xdly1[Its,:]\n",
    "        # yts = ...\n",
    "        yts = ydly[Its,:]\n",
    "        \n",
    "        # TODO:  Fit data on training data\n",
    "        # Train the model using the training sets\n",
    "        regr.fit(Xtr, ytr)\n",
    "        # Make predictions using the testing set\n",
    "        yhat = regr.predict(Xts)\n",
    "\n",
    "        # TODO:  Measure the R^2 vale on test data and store in the matrix Rsq\n",
    "        # rsq = ...\n",
    "        Rsq[it,isplit] = r2_score(yts, yhat)"
   ]
  },
  {
   "cell_type": "markdown",
   "metadata": {},
   "source": [
    "Compute the mean and standard error of the $R^2$ values as a function of the model order $d$.  Use a `plt.errorbar` plot.  Label your axes."
   ]
  },
  {
   "cell_type": "code",
   "execution_count": 14,
   "metadata": {},
   "outputs": [
    {
     "data": {
      "image/png": "[encoded data removed]",
      "text/plain": [
       "<Figure size 432x288 with 1 Axes>"
      ]
     },
     "metadata": {
      "needs_background": "light"
     },
     "output_type": "display_data"
    }
   ],
   "source": [
    "# TODO\n",
    "Rsq_m = np.mean(Rsq,axis=1)\n",
    "Rsq_std = np.std(Rsq,axis=1)\n",
    "plt.errorbar(dtest, Rsq_m, yerr=Rsq_std,fmt='-')\n",
    "plt.xlabel('dly')\n",
    "plt.ylabel('mean(Rsq)')\n",
    "plt.ylim(0,1)\n",
    "plt.grid()"
   ]
  },
  {
   "cell_type": "markdown",
   "metadata": {},
   "source": [
    "Find the optimal order $d$ with the normal rule (i.e. highest test $R^2$)"
   ]
  },
  {
   "cell_type": "code",
   "execution_count": 15,
   "metadata": {},
   "outputs": [
    {
     "name": "stdout",
     "output_type": "stream",
     "text": [
      "Optimal order =  15\n"
     ]
    }
   ],
   "source": [
    "# TODO\n",
    "d = np.argmax(Rsq_m)\n",
    "print('Optimal order = ', d)"
   ]
  },
  {
   "cell_type": "markdown",
   "metadata": {},
   "source": [
    "Now find the optimal model order via the one SE rule (i.e. highest test $R^2$ within on SE)"
   ]
  },
  {
   "cell_type": "code",
   "execution_count": 16,
   "metadata": {},
   "outputs": [
    {
     "name": "stdout",
     "output_type": "stream",
     "text": [
      "One SE Rule: Optimal Order =  15\n"
     ]
    }
   ],
   "source": [
    "# TODO\n",
    "mse_tgt = Rsq_m[d]+Rsq_std[d]/np.sqrt(nfold-1)\n",
    "print('One SE Rule: Optimal Order = ', np.argmax((Rsq_m < mse_tgt)*Rsq_m))\n"
   ]
  },
  {
   "cell_type": "markdown",
   "metadata": {},
   "source": [
    "## Coments\n",
    "A model with delays provide a better fitting than a memoriless model, because it takes into consideration previous output values, making it more robust.\n",
    "The optimal model order found is d=15, which means the best fit is optimal with larger delays."
   ]
  },
  {
   "cell_type": "code",
   "execution_count": null,
   "metadata": {},
   "outputs": [],
   "source": []
  }
 ],
 "metadata": {
  "kernelspec": {
   "display_name": "Python 3",
   "language": "python",
   "name": "python3"
  },
  "language_info": {
   "codemirror_mode": {
    "name": "ipython",
    "version": 3
   },
   "file_extension": ".py",
   "mimetype": "text/x-python",
   "name": "python",
   "nbconvert_exporter": "python",
   "pygments_lexer": "ipython3",
   "version": "3.7.2"
  }
 },
 "nbformat": 4,
 "nbformat_minor": 2
}
