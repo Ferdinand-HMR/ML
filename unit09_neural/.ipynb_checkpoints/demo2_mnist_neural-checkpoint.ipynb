{
 "cells": [
  {
   "cell_type": "markdown",
   "metadata": {},
   "source": [
    "# MNIST Classification via a Neural Network\n",
    "\n",
    "In the the [MNIST SVM example](../svm/mnist_svm.ipynb), we introduced the classic MNIST digit classification problem and trained a simple SVM classifier for the model.  In this demo, we will try a simple neural network.  The network we will create will not perform quite as well -- we will obtain an accuracy of only around 97%, while the SVM classifier obtains an accuracy of over 98%.  However, once we understand these simple neural networks, we will be able to build more sophisticated networks that can obtain much better classification rate.  Also, in doing this demo, you will learn several important features of the `keras` package in addition to the concepts shown in the [simple neural network example](./synthetic.ipynb):\n",
    "\n",
    "* How to construct multi-class classifiers using categorical cross entropy.\n",
    "* How to optimize using mini-batches.\n",
    "* How to save and load the model after training.  "
   ]
  },
  {
   "cell_type": "markdown",
   "metadata": {},
   "source": [
    "## Loading the Keras package and the MNIST data\n",
    "\n",
    "We first load the `Tensorflow` package as in the [simple neural network example](./synthetic.ipynb)."
   ]
  },
  {
   "cell_type": "code",
   "execution_count": 1,
   "metadata": {},
   "outputs": [],
   "source": [
    "# import os\n",
    "# os.environ['KMP_DUPLICATE_LIB_OK']='True'\n",
    "import tensorflow as tf"
   ]
  },
  {
   "cell_type": "markdown",
   "metadata": {},
   "source": [
    "We also load some other common packages."
   ]
  },
  {
   "cell_type": "code",
   "execution_count": 2,
   "metadata": {},
   "outputs": [],
   "source": [
    "import numpy as np\n",
    "import matplotlib.pyplot as plt\n",
    "%matplotlib inline"
   ]
  },
  {
   "cell_type": "markdown",
   "metadata": {},
   "source": [
    "Next, we get the MNIST data as in the [MNIST SVM example](../svm/mnist_svm.ipynb).  We reshape and rescale the input `X` from values from -1 to 1 as this works better for the neural network."
   ]
  },
  {
   "cell_type": "code",
   "execution_count": 3,
   "metadata": {},
   "outputs": [],
   "source": [
    "(Xtr,ytr),(Xts,yts) = tf.keras.datasets.mnist.load_data()\n",
    "ntr, nrow, ncol = Xtr.shape\n",
    "Xtr = Xtr.reshape((ntr,nrow*ncol))\n",
    "Xts = 2*(Xts/255 - 0.5)\n",
    "nts, nrow, ncol = Xts.shape\n",
    "Xts = Xts.reshape((nts,nrow*ncol))"
   ]
  },
  {
   "cell_type": "markdown",
   "metadata": {},
   "source": [
    "We will also use the `plt_digit` function from the [MNIST SVM example](../svm/mnist_svm.ipynb) to display digits."
   ]
  },
  {
   "cell_type": "code",
   "execution_count": 4,
   "metadata": {},
   "outputs": [
    {
     "data": {
      "image/png": "[encoded data removed]",
      "text/plain": [
       "<Figure size 432x288 with 4 Axes>"
      ]
     },
     "metadata": {},
     "output_type": "display_data"
    }
   ],
   "source": [
    "def plt_digit(x):\n",
    "    nrow = 28\n",
    "    ncol = 28\n",
    "    xsq = x.reshape((nrow,ncol))\n",
    "    plt.imshow(xsq,  cmap='Greys_r')\n",
    "    plt.xticks([])\n",
    "    plt.yticks([])\n",
    "    \n",
    "# Select random digits\n",
    "nplt = 4\n",
    "nsamp = Xtr.shape[0]\n",
    "Iperm = np.random.permutation(nsamp)\n",
    "\n",
    "# Plot the images using the subplot command\n",
    "for i in range(nplt):\n",
    "    ind = Iperm[i]\n",
    "    plt.subplot(1,nplt,i+1)\n",
    "    plt_digit(Xtr[ind,:])\n",
    "    \n",
    "# Select random digits\n",
    "nplt = 4\n",
    "nsamp = Xts.shape[0]\n",
    "Iperm = np.random.permutation(nsamp)"
   ]
  },
  {
   "cell_type": "markdown",
   "metadata": {},
   "source": [
    "## Creating a Simple Neural Network."
   ]
  },
  {
   "cell_type": "markdown",
   "metadata": {},
   "source": [
    "To create the neural network, we first import the appropriate sub-packages."
   ]
  },
  {
   "cell_type": "code",
   "execution_count": 5,
   "metadata": {},
   "outputs": [],
   "source": [
    "from tensorflow.keras.models import Model, Sequential\n",
    "from tensorflow.keras.layers import Dense, Activation"
   ]
  },
  {
   "cell_type": "markdown",
   "metadata": {},
   "source": [
    "Next, we clear the session.  As in the [simple neural network example](./synthetic.ipynb), this step is not necessary, but it is good practice as it clears any model layers that you have built before.  "
   ]
  },
  {
   "cell_type": "code",
   "execution_count": 6,
   "metadata": {},
   "outputs": [],
   "source": [
    "import tensorflow.keras.backend as K\n",
    "K.clear_session()"
   ]
  },
  {
   "cell_type": "markdown",
   "metadata": {},
   "source": [
    "Now we create a very simple network.  The features are:\n",
    "*  We have one hidden layer with `nh=100` units.  \n",
    "*  One output layer with `nout=10` units, one for each of the 10 possible classes\n",
    "*  The output activation is `softmax`, which is used for multi-class targets"
   ]
  },
  {
   "cell_type": "code",
   "execution_count": 8,
   "metadata": {},
   "outputs": [],
   "source": [
    "nin = Xtr.shape[1]  # dimension of input data\n",
    "nh = 100     # number of hidden units\n",
    "nout = int(np.max(ytr)+1)    # number of outputs = 10 since there are 10 classes\n",
    "model = Sequential()\n",
    "model.add(Dense(units=nh, input_shape=(nin,), activation='sigmoid', name='hidden'))\n",
    "model.add(Dense(units=nout, activation='softmax', name='output'))"
   ]
  },
  {
   "cell_type": "markdown",
   "metadata": {},
   "source": [
    "We print the model summary. "
   ]
  },
  {
   "cell_type": "code",
   "execution_count": 9,
   "metadata": {},
   "outputs": [
    {
     "name": "stdout",
     "output_type": "stream",
     "text": [
      "_________________________________________________________________\n",
      "Layer (type)                 Output Shape              Param #   \n",
      "=================================================================\n",
      "hidden (Dense)               (None, 100)               78500     \n",
      "_________________________________________________________________\n",
      "output (Dense)               (None, 10)                1010      \n",
      "=================================================================\n",
      "Total params: 79,510\n",
      "Trainable params: 79,510\n",
      "Non-trainable params: 0\n",
      "_________________________________________________________________\n"
     ]
    }
   ],
   "source": [
    "model.summary()"
   ]
  },
  {
   "cell_type": "markdown",
   "metadata": {},
   "source": [
    "## Training the Network\n",
    "\n",
    "As before, to train the network, we have to select an optimizer and a loss function.  Since this is a multi-class classification problem, we select the `sparse_categorial_crossentropy` loss.  We use the `adam` optimizer as before.  You may want to play with the learning rate `lr`.   We also set the `metrics` that we wish to track during the optimization.  In this case, we select `accuracy` on the training set."
   ]
  },
  {
   "cell_type": "code",
   "execution_count": 10,
   "metadata": {},
   "outputs": [],
   "source": [
    "from tensorflow.keras import optimizers\n",
    "\n",
    "opt = optimizers.Adam(lr=0.01) #, beta_1=0.9, beta_2=0.999, epsilon=1e-08, decay=0.0)\n",
    "model.compile(optimizer=opt,\n",
    "              loss='sparse_categorical_crossentropy',\n",
    "              metrics=['accuracy'])"
   ]
  },
  {
   "cell_type": "markdown",
   "metadata": {},
   "source": [
    "Keras provides a simple method `fit` to run the optimization.  You simply specify the number of epochs and the batch size, both discussed in class.  In addition, we specify the `validation_data` so that it can print the accuracy on the test data set as it performs the optimization."
   ]
  },
  {
   "cell_type": "code",
   "execution_count": 11,
   "metadata": {},
   "outputs": [
    {
     "name": "stdout",
     "output_type": "stream",
     "text": [
      "Train on 60000 samples, validate on 10000 samples\n",
      "Epoch 1/100\n",
      "60000/60000 [==============================] - 1s 14us/sample - loss: 0.7203 - acc: 0.7988 - val_loss: 1.9236 - val_acc: 0.4229\n",
      "Epoch 2/100\n",
      "60000/60000 [==============================] - 1s 9us/sample - loss: 0.4062 - acc: 0.8838 - val_loss: 3.1936 - val_acc: 0.2447\n",
      "Epoch 3/100\n",
      "60000/60000 [==============================] - 1s 9us/sample - loss: 0.3817 - acc: 0.8891 - val_loss: 4.5218 - val_acc: 0.1880\n",
      "Epoch 4/100\n",
      "60000/60000 [==============================] - 1s 9us/sample - loss: 0.3614 - acc: 0.8925 - val_loss: 2.8827 - val_acc: 0.3805\n",
      "Epoch 5/100\n",
      "60000/60000 [==============================] - 1s 9us/sample - loss: 0.3673 - acc: 0.8909 - val_loss: 3.8932 - val_acc: 0.3164\n",
      "Epoch 6/100\n",
      "60000/60000 [==============================] - 1s 9us/sample - loss: 0.3635 - acc: 0.8939 - val_loss: 3.5311 - val_acc: 0.3929\n",
      "Epoch 7/100\n",
      "60000/60000 [==============================] - 1s 9us/sample - loss: 0.3698 - acc: 0.8886 - val_loss: 3.7096 - val_acc: 0.4316\n",
      "Epoch 8/100\n",
      "60000/60000 [==============================] - 1s 9us/sample - loss: 0.3642 - acc: 0.8892 - val_loss: 4.4854 - val_acc: 0.3502\n",
      "Epoch 9/100\n",
      "60000/60000 [==============================] - 1s 9us/sample - loss: 0.3506 - acc: 0.8936 - val_loss: 5.2755 - val_acc: 0.3143\n",
      "Epoch 10/100\n",
      "60000/60000 [==============================] - 1s 9us/sample - loss: 0.3546 - acc: 0.8932 - val_loss: 4.6992 - val_acc: 0.3949\n",
      "Epoch 11/100\n",
      "60000/60000 [==============================] - 1s 9us/sample - loss: 0.3290 - acc: 0.9029 - val_loss: 5.4003 - val_acc: 0.3908\n",
      "Epoch 12/100\n",
      "60000/60000 [==============================] - 1s 10us/sample - loss: 0.3592 - acc: 0.8917 - val_loss: 6.1605 - val_acc: 0.2853\n",
      "Epoch 13/100\n",
      "60000/60000 [==============================] - 1s 9us/sample - loss: 0.3521 - acc: 0.8934 - val_loss: 6.0663 - val_acc: 0.2980\n",
      "Epoch 14/100\n",
      "60000/60000 [==============================] - 1s 10us/sample - loss: 0.3407 - acc: 0.8962 - val_loss: 5.4715 - val_acc: 0.3470\n",
      "Epoch 15/100\n",
      "60000/60000 [==============================] - 1s 9us/sample - loss: 0.3464 - acc: 0.8953 - val_loss: 5.7883 - val_acc: 0.3363\n",
      "Epoch 16/100\n",
      "60000/60000 [==============================] - 1s 9us/sample - loss: 0.3313 - acc: 0.8997 - val_loss: 5.8455 - val_acc: 0.3500\n",
      "Epoch 17/100\n",
      "60000/60000 [==============================] - 1s 9us/sample - loss: 0.3483 - acc: 0.8930 - val_loss: 6.1450 - val_acc: 0.3588\n",
      "Epoch 18/100\n",
      "60000/60000 [==============================] - 1s 10us/sample - loss: 0.3490 - acc: 0.8924 - val_loss: 5.8361 - val_acc: 0.3629\n",
      "Epoch 19/100\n",
      "60000/60000 [==============================] - 1s 9us/sample - loss: 0.3398 - acc: 0.8955 - val_loss: 5.7017 - val_acc: 0.3300\n",
      "Epoch 20/100\n",
      "60000/60000 [==============================] - 1s 9us/sample - loss: 0.3369 - acc: 0.8975 - val_loss: 5.4417 - val_acc: 0.3290\n",
      "Epoch 21/100\n",
      "60000/60000 [==============================] - 1s 10us/sample - loss: 0.3207 - acc: 0.9044 - val_loss: 5.7769 - val_acc: 0.3183\n",
      "Epoch 22/100\n",
      "60000/60000 [==============================] - 1s 9us/sample - loss: 0.3128 - acc: 0.9053 - val_loss: 5.7627 - val_acc: 0.3331\n",
      "Epoch 23/100\n",
      "60000/60000 [==============================] - 1s 10us/sample - loss: 0.3142 - acc: 0.9046 - val_loss: 5.9123 - val_acc: 0.3506\n",
      "Epoch 24/100\n",
      "60000/60000 [==============================] - 1s 10us/sample - loss: 0.3082 - acc: 0.9063 - val_loss: 5.7509 - val_acc: 0.3595\n",
      "Epoch 25/100\n",
      "60000/60000 [==============================] - 1s 10us/sample - loss: 0.3231 - acc: 0.9017 - val_loss: 5.6773 - val_acc: 0.3685\n",
      "Epoch 26/100\n",
      "60000/60000 [==============================] - 1s 9us/sample - loss: 0.3163 - acc: 0.9045 - val_loss: 5.9692 - val_acc: 0.2936\n",
      "Epoch 27/100\n",
      "60000/60000 [==============================] - 1s 10us/sample - loss: 0.3317 - acc: 0.8975 - val_loss: 5.4855 - val_acc: 0.3494\n",
      "Epoch 28/100\n",
      "60000/60000 [==============================] - 1s 10us/sample - loss: 0.3231 - acc: 0.9015 - val_loss: 6.3412 - val_acc: 0.3057\n",
      "Epoch 29/100\n",
      "60000/60000 [==============================] - 1s 9us/sample - loss: 0.3106 - acc: 0.9058 - val_loss: 6.5504 - val_acc: 0.2983\n",
      "Epoch 30/100\n",
      "60000/60000 [==============================] - 1s 9us/sample - loss: 0.3265 - acc: 0.9020 - val_loss: 6.5909 - val_acc: 0.2956\n",
      "Epoch 31/100\n",
      "60000/60000 [==============================] - 1s 9us/sample - loss: 0.3163 - acc: 0.9046 - val_loss: 6.7988 - val_acc: 0.2917\n",
      "Epoch 32/100\n",
      "60000/60000 [==============================] - 1s 9us/sample - loss: 0.3019 - acc: 0.9092 - val_loss: 7.2892 - val_acc: 0.2557\n",
      "Epoch 33/100\n",
      "60000/60000 [==============================] - 1s 9us/sample - loss: 0.3106 - acc: 0.9047 - val_loss: 7.5475 - val_acc: 0.2472\n",
      "Epoch 34/100\n",
      "60000/60000 [==============================] - 1s 9us/sample - loss: 0.3096 - acc: 0.9067 - val_loss: 8.1039 - val_acc: 0.2279\n",
      "Epoch 35/100\n",
      "60000/60000 [==============================] - 1s 9us/sample - loss: 0.3131 - acc: 0.9051 - val_loss: 8.1373 - val_acc: 0.2249\n",
      "Epoch 36/100\n",
      "60000/60000 [==============================] - 1s 9us/sample - loss: 0.3162 - acc: 0.9035 - val_loss: 8.0292 - val_acc: 0.2282\n",
      "Epoch 37/100\n",
      "60000/60000 [==============================] - 1s 9us/sample - loss: 0.3186 - acc: 0.9033 - val_loss: 7.8004 - val_acc: 0.2647\n",
      "Epoch 38/100\n",
      "60000/60000 [==============================] - 1s 9us/sample - loss: 0.3131 - acc: 0.9049 - val_loss: 7.6709 - val_acc: 0.2643\n",
      "Epoch 39/100\n",
      "60000/60000 [==============================] - 1s 9us/sample - loss: 0.3150 - acc: 0.9042 - val_loss: 7.4557 - val_acc: 0.2720\n",
      "Epoch 40/100\n",
      "60000/60000 [==============================] - 1s 9us/sample - loss: 0.3102 - acc: 0.9067 - val_loss: 7.5042 - val_acc: 0.2588\n",
      "Epoch 41/100\n",
      "60000/60000 [==============================] - 1s 10us/sample - loss: 0.3192 - acc: 0.9019 - val_loss: 6.8501 - val_acc: 0.3201\n",
      "Epoch 42/100\n",
      "60000/60000 [==============================] - 1s 9us/sample - loss: 0.3235 - acc: 0.8999 - val_loss: 6.4276 - val_acc: 0.3513\n",
      "Epoch 43/100\n",
      "60000/60000 [==============================] - 1s 9us/sample - loss: 0.3237 - acc: 0.9002 - val_loss: 6.1020 - val_acc: 0.3573\n",
      "Epoch 44/100\n",
      "60000/60000 [==============================] - 1s 9us/sample - loss: 0.3218 - acc: 0.9031 - val_loss: 5.5539 - val_acc: 0.3823\n",
      "Epoch 45/100\n",
      "60000/60000 [==============================] - 1s 9us/sample - loss: 0.2912 - acc: 0.9119 - val_loss: 5.2093 - val_acc: 0.3783\n",
      "Epoch 46/100\n",
      "60000/60000 [==============================] - 1s 10us/sample - loss: 0.2856 - acc: 0.9121 - val_loss: 5.4203 - val_acc: 0.3660\n",
      "Epoch 47/100\n",
      "60000/60000 [==============================] - 1s 9us/sample - loss: 0.2876 - acc: 0.9110 - val_loss: 5.1678 - val_acc: 0.3728\n",
      "Epoch 48/100\n",
      "60000/60000 [==============================] - 1s 9us/sample - loss: 0.3006 - acc: 0.9088 - val_loss: 5.7913 - val_acc: 0.2954\n",
      "Epoch 49/100\n",
      "60000/60000 [==============================] - 1s 9us/sample - loss: 0.2877 - acc: 0.9114 - val_loss: 5.8800 - val_acc: 0.3264\n",
      "Epoch 50/100\n",
      "60000/60000 [==============================] - 1s 9us/sample - loss: 0.2718 - acc: 0.9167 - val_loss: 6.1456 - val_acc: 0.3301\n",
      "Epoch 51/100\n",
      "60000/60000 [==============================] - 1s 9us/sample - loss: 0.2627 - acc: 0.9196 - val_loss: 6.2220 - val_acc: 0.3197\n",
      "Epoch 52/100\n",
      "60000/60000 [==============================] - 1s 10us/sample - loss: 0.2565 - acc: 0.9216 - val_loss: 6.0037 - val_acc: 0.3347\n",
      "Epoch 53/100\n",
      "60000/60000 [==============================] - 1s 10us/sample - loss: 0.2676 - acc: 0.9179 - val_loss: 6.3193 - val_acc: 0.2994\n",
      "Epoch 54/100\n",
      "60000/60000 [==============================] - 1s 9us/sample - loss: 0.2611 - acc: 0.9203 - val_loss: 6.2951 - val_acc: 0.2759\n",
      "Epoch 55/100\n",
      "60000/60000 [==============================] - 1s 10us/sample - loss: 0.2563 - acc: 0.9207 - val_loss: 6.3465 - val_acc: 0.3006\n",
      "Epoch 56/100\n",
      "60000/60000 [==============================] - 1s 10us/sample - loss: 0.2651 - acc: 0.9187 - val_loss: 6.7179 - val_acc: 0.2600\n",
      "Epoch 57/100\n",
      "60000/60000 [==============================] - 1s 10us/sample - loss: 0.2792 - acc: 0.9146 - val_loss: 6.6943 - val_acc: 0.2739\n",
      "Epoch 58/100\n",
      "60000/60000 [==============================] - 1s 10us/sample - loss: 0.2793 - acc: 0.9147 - val_loss: 6.6618 - val_acc: 0.2444\n",
      "Epoch 59/100\n"
     ]
    },
    {
     "name": "stdout",
     "output_type": "stream",
     "text": [
      "60000/60000 [==============================] - 1s 10us/sample - loss: 0.2824 - acc: 0.9144 - val_loss: 6.3833 - val_acc: 0.2236\n",
      "Epoch 60/100\n",
      "60000/60000 [==============================] - 1s 9us/sample - loss: 0.2745 - acc: 0.9184 - val_loss: 6.0607 - val_acc: 0.2510\n",
      "Epoch 61/100\n",
      "60000/60000 [==============================] - 1s 9us/sample - loss: 0.2654 - acc: 0.9200 - val_loss: 6.0516 - val_acc: 0.2684\n",
      "Epoch 62/100\n",
      "60000/60000 [==============================] - ETA: 0s - loss: 0.2748 - acc: 0.917 - 1s 9us/sample - loss: 0.2752 - acc: 0.9171 - val_loss: 6.1569 - val_acc: 0.2473\n",
      "Epoch 63/100\n",
      "60000/60000 [==============================] - 1s 9us/sample - loss: 0.2807 - acc: 0.9145 - val_loss: 5.9794 - val_acc: 0.2457\n",
      "Epoch 64/100\n",
      "60000/60000 [==============================] - 1s 9us/sample - loss: 0.2756 - acc: 0.9162 - val_loss: 6.6158 - val_acc: 0.1670\n",
      "Epoch 65/100\n",
      "60000/60000 [==============================] - 1s 9us/sample - loss: 0.2745 - acc: 0.9176 - val_loss: 5.9932 - val_acc: 0.2271\n",
      "Epoch 66/100\n",
      "60000/60000 [==============================] - 1s 9us/sample - loss: 0.2812 - acc: 0.9141 - val_loss: 6.9098 - val_acc: 0.1591\n",
      "Epoch 67/100\n",
      "60000/60000 [==============================] - 1s 10us/sample - loss: 0.2839 - acc: 0.9135 - val_loss: 7.5692 - val_acc: 0.1879\n",
      "Epoch 68/100\n",
      "60000/60000 [==============================] - 1s 9us/sample - loss: 0.2720 - acc: 0.9173 - val_loss: 7.4943 - val_acc: 0.1950\n",
      "Epoch 69/100\n",
      "60000/60000 [==============================] - 1s 9us/sample - loss: 0.2696 - acc: 0.9185 - val_loss: 7.5713 - val_acc: 0.2290\n",
      "Epoch 70/100\n",
      "60000/60000 [==============================] - 1s 9us/sample - loss: 0.2703 - acc: 0.9179 - val_loss: 7.6697 - val_acc: 0.2094\n",
      "Epoch 71/100\n",
      "60000/60000 [==============================] - 1s 9us/sample - loss: 0.2751 - acc: 0.9147 - val_loss: 7.5484 - val_acc: 0.2163\n",
      "Epoch 72/100\n",
      "60000/60000 [==============================] - 1s 10us/sample - loss: 0.2784 - acc: 0.9154 - val_loss: 7.3586 - val_acc: 0.2407\n",
      "Epoch 73/100\n",
      "60000/60000 [==============================] - 1s 9us/sample - loss: 0.2825 - acc: 0.9148 - val_loss: 7.0942 - val_acc: 0.2479\n",
      "Epoch 74/100\n",
      "60000/60000 [==============================] - 1s 10us/sample - loss: 0.2742 - acc: 0.9168 - val_loss: 7.2920 - val_acc: 0.2486\n",
      "Epoch 75/100\n",
      "60000/60000 [==============================] - 1s 10us/sample - loss: 0.2686 - acc: 0.9190 - val_loss: 7.0373 - val_acc: 0.2361\n",
      "Epoch 76/100\n",
      "60000/60000 [==============================] - 1s 10us/sample - loss: 0.2639 - acc: 0.9198 - val_loss: 6.8270 - val_acc: 0.2569\n",
      "Epoch 77/100\n",
      "60000/60000 [==============================] - 1s 9us/sample - loss: 0.2625 - acc: 0.9214 - val_loss: 6.9857 - val_acc: 0.2613\n",
      "Epoch 78/100\n",
      "60000/60000 [==============================] - 1s 9us/sample - loss: 0.2679 - acc: 0.9188 - val_loss: 6.8652 - val_acc: 0.2813\n",
      "Epoch 79/100\n",
      "60000/60000 [==============================] - 1s 9us/sample - loss: 0.2689 - acc: 0.9184 - val_loss: 7.5036 - val_acc: 0.2723\n",
      "Epoch 80/100\n",
      "60000/60000 [==============================] - 1s 9us/sample - loss: 0.2698 - acc: 0.9182 - val_loss: 7.5690 - val_acc: 0.2558\n",
      "Epoch 81/100\n",
      "60000/60000 [==============================] - 1s 9us/sample - loss: 0.2785 - acc: 0.9150 - val_loss: 7.9344 - val_acc: 0.2333\n",
      "Epoch 82/100\n",
      "60000/60000 [==============================] - 1s 9us/sample - loss: 0.2919 - acc: 0.9097 - val_loss: 7.7488 - val_acc: 0.2475\n",
      "Epoch 83/100\n",
      "60000/60000 [==============================] - 1s 9us/sample - loss: 0.2861 - acc: 0.9110 - val_loss: 7.4216 - val_acc: 0.2545\n",
      "Epoch 84/100\n",
      "60000/60000 [==============================] - 1s 9us/sample - loss: 0.2763 - acc: 0.9155 - val_loss: 7.0493 - val_acc: 0.2732\n",
      "Epoch 85/100\n",
      "60000/60000 [==============================] - 1s 9us/sample - loss: 0.2666 - acc: 0.9168 - val_loss: 6.9279 - val_acc: 0.2643\n",
      "Epoch 86/100\n",
      "60000/60000 [==============================] - 1s 9us/sample - loss: 0.2732 - acc: 0.9163 - val_loss: 6.6448 - val_acc: 0.2604\n",
      "Epoch 87/100\n",
      "60000/60000 [==============================] - 1s 9us/sample - loss: 0.2575 - acc: 0.9211 - val_loss: 6.3522 - val_acc: 0.2751\n",
      "Epoch 88/100\n",
      "60000/60000 [==============================] - 1s 9us/sample - loss: 0.2664 - acc: 0.9182 - val_loss: 7.2027 - val_acc: 0.2007\n",
      "Epoch 89/100\n",
      "60000/60000 [==============================] - 1s 9us/sample - loss: 0.2790 - acc: 0.9143 - val_loss: 7.0736 - val_acc: 0.1969\n",
      "Epoch 90/100\n",
      "60000/60000 [==============================] - 1s 9us/sample - loss: 0.2771 - acc: 0.9132 - val_loss: 7.3116 - val_acc: 0.1980\n",
      "Epoch 91/100\n",
      "60000/60000 [==============================] - 1s 9us/sample - loss: 0.2900 - acc: 0.9098 - val_loss: 6.6997 - val_acc: 0.2159\n",
      "Epoch 92/100\n",
      "60000/60000 [==============================] - 1s 9us/sample - loss: 0.2938 - acc: 0.9094 - val_loss: 6.3463 - val_acc: 0.2438\n",
      "Epoch 93/100\n",
      "60000/60000 [==============================] - 1s 9us/sample - loss: 0.2764 - acc: 0.9165 - val_loss: 6.4376 - val_acc: 0.2537\n",
      "Epoch 94/100\n",
      "60000/60000 [==============================] - 1s 9us/sample - loss: 0.2786 - acc: 0.9160 - val_loss: 6.1189 - val_acc: 0.2767\n",
      "Epoch 95/100\n",
      "60000/60000 [==============================] - 1s 9us/sample - loss: 0.2864 - acc: 0.9124 - val_loss: 6.3451 - val_acc: 0.2766\n",
      "Epoch 96/100\n",
      "60000/60000 [==============================] - 1s 9us/sample - loss: 0.2823 - acc: 0.9132 - val_loss: 6.5052 - val_acc: 0.2681\n",
      "Epoch 97/100\n",
      "60000/60000 [==============================] - 1s 9us/sample - loss: 0.2991 - acc: 0.9091 - val_loss: 6.3042 - val_acc: 0.2776\n",
      "Epoch 98/100\n",
      "60000/60000 [==============================] - 1s 9us/sample - loss: 0.2894 - acc: 0.9132 - val_loss: 6.3583 - val_acc: 0.2653\n",
      "Epoch 99/100\n",
      "60000/60000 [==============================] - 1s 9us/sample - loss: 0.2881 - acc: 0.9133 - val_loss: 6.5525 - val_acc: 0.2382\n",
      "Epoch 100/100\n",
      "60000/60000 [==============================] - 1s 9us/sample - loss: 0.2876 - acc: 0.9131 - val_loss: 6.6242 - val_acc: 0.2654\n"
     ]
    }
   ],
   "source": [
    "hist = model.fit(Xtr, ytr, epochs=100, batch_size=1000, validation_data=(Xts,yts))"
   ]
  },
  {
   "cell_type": "markdown",
   "metadata": {},
   "source": [
    "After running the 10 epochs, you should obtain a test accuracy of around 96.5%.  If we run it for another a few epochs, we can get slightly higher results.  We can just run the `model.fit` command again, and it will start where it left off. You should get a little more than 97% accuracy. "
   ]
  },
  {
   "cell_type": "markdown",
   "metadata": {},
   "source": [
    "Plot the training accuracy and validation accuracy as a function of epoches.\n",
    "We see that the training accuracy keeps growing to 1, while the validation accuracy saturates to a value around 0.97"
   ]
  },
  {
   "cell_type": "code",
   "execution_count": 12,
   "metadata": {},
   "outputs": [
    {
     "data": {
      "image/png": "[encoded data removed]",
      "text/plain": [
       "<Figure size 432x288 with 1 Axes>"
      ]
     },
     "metadata": {
      "needs_background": "light"
     },
     "output_type": "display_data"
    }
   ],
   "source": [
    "tr_accuracy = hist.history['acc']\n",
    "val_accuracy = hist.history['val_acc']\n",
    "\n",
    "plt.plot(tr_accuracy)\n",
    "plt.plot(val_accuracy)\n",
    "plt.grid()\n",
    "plt.xlabel('epochs')\n",
    "plt.ylabel('accuarcy')\n",
    "plt.legend(['training accuracy', 'validation accuracy'])\n",
    "plt.show()"
   ]
  },
  {
   "cell_type": "markdown",
   "metadata": {},
   "source": [
    "## Saving and Loading the model\n",
    "\n",
    "Since the training takes a long time, it is useful to save the results.  See the [keras page](https://keras.io/getting-started/faq/#how-can-i-save-a-keras-model) for many more useful saving and loading features."
   ]
  },
  {
   "cell_type": "code",
   "execution_count": 13,
   "metadata": {},
   "outputs": [],
   "source": [
    "model.save(\"mnist_mod.h5\")"
   ]
  },
  {
   "cell_type": "markdown",
   "metadata": {},
   "source": [
    "We can now reload the model with the `load_model` command."
   ]
  },
  {
   "cell_type": "code",
   "execution_count": 14,
   "metadata": {},
   "outputs": [
    {
     "name": "stdout",
     "output_type": "stream",
     "text": [
      "_________________________________________________________________\n",
      "Layer (type)                 Output Shape              Param #   \n",
      "=================================================================\n",
      "hidden (Dense)               (None, 100)               78500     \n",
      "_________________________________________________________________\n",
      "output (Dense)               (None, 10)                1010      \n",
      "=================================================================\n",
      "Total params: 79,510\n",
      "Trainable params: 79,510\n",
      "Non-trainable params: 0\n",
      "_________________________________________________________________\n"
     ]
    }
   ],
   "source": [
    "from tensorflow.keras.models import load_model\n",
    "\n",
    "model = load_model(\"mnist_mod.h5\")\n",
    "model.summary()"
   ]
  },
  {
   "cell_type": "markdown",
   "metadata": {},
   "source": [
    "We can test the performance on the test data set."
   ]
  },
  {
   "cell_type": "code",
   "execution_count": 15,
   "metadata": {},
   "outputs": [
    {
     "name": "stdout",
     "output_type": "stream",
     "text": [
      "10000/10000 [==============================] - 0s 28us/sample - loss: 6.6242 - acc: 0.2654\n",
      "accuracy = 0.265400\n"
     ]
    }
   ],
   "source": [
    "score, acc = model.evaluate(Xts, yts, verbose=1)\n",
    "print(\"accuracy = %f\" % acc)"
   ]
  },
  {
   "cell_type": "code",
   "execution_count": null,
   "metadata": {},
   "outputs": [],
   "source": []
  }
 ],
 "metadata": {
  "anaconda-cloud": {},
  "kernelspec": {
   "display_name": "Python 3",
   "language": "python",
   "name": "python3"
  },
  "language_info": {
   "codemirror_mode": {
    "name": "ipython",
    "version": 3
   },
   "file_extension": ".py",
   "mimetype": "text/x-python",
   "name": "python",
   "nbconvert_exporter": "python",
   "pygments_lexer": "ipython3",
   "version": "3.7.3"
  }
 },
 "nbformat": 4,
 "nbformat_minor": 1
}
